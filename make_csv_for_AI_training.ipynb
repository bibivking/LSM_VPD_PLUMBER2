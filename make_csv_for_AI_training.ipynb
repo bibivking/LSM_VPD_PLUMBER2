{
 "cells": [
  {
   "cell_type": "code",
   "execution_count": 6,
   "id": "3178e1b2-41be-401a-8181-3b1adccdc926",
   "metadata": {},
   "outputs": [],
   "source": [
    "import os\n",
    "import gc\n",
    "import sys\n",
    "import glob\n",
    "import numpy as np\n",
    "import pandas as pd\n",
    "import netCDF4 as nc\n",
    "from datetime import datetime, timedelta\n",
    "from matplotlib.cm import get_cmap\n",
    "import matplotlib.pyplot as plt\n",
    "from matplotlib import cm\n",
    "from matplotlib import colors\n",
    "import scipy.stats as stats\n",
    "import matplotlib.ticker as mticker"
   ]
  },
  {
   "cell_type": "code",
   "execution_count": 7,
   "id": "05f3f6da-5359-4ce2-8176-36fb73127f0d",
   "metadata": {},
   "outputs": [],
   "source": [
    "model_names = ['CABLE', 'CABLE-POP-CN',\n",
    "               'CHTESSEL_Ref_exp1', 'CLM5a', 'GFDL',\n",
    "               'JULES_GL9', 'JULES_GL9_withLAI',\n",
    "               'MATSIRO', 'MuSICA', 'NASAEnt',\n",
    "               'NoahMPv401', 'ORC2_r6593',\n",
    "               'ORC3_r8120', 'QUINCY',\n",
    "               'STEMMUS-SCOPE','obs'] "
   ]
  },
  {
   "cell_type": "code",
   "execution_count": 8,
   "id": "507710de-59cd-4748-baaf-9a6f05d4b998",
   "metadata": {},
   "outputs": [
    {
     "name": "stdout",
     "output_type": "stream",
     "text": [
      "5053070\n",
      "5201615\n",
      "5042792\n",
      "4988024\n",
      "4558856\n",
      "4763162\n",
      "4745526\n",
      "4900974\n",
      "5094348\n",
      "0\n",
      "5172279\n",
      "5071410\n",
      "5020763\n",
      "0\n",
      "5004641\n",
      "0\n"
     ]
    }
   ],
   "source": [
    "for model_name in model_names:\n",
    "    if model_name == 'obs':\n",
    "        header = ''\n",
    "    else:\n",
    "        header = 'model_'\n",
    "\n",
    "    file_name = '/g/data/w97/mm3972/scripts/PLUMBER2/LSM_VPD_PLUMBER2/txt/process3_output/curves/raw_data_Qle_VPD_hourly_RM16_DT_EF_model_0.0-1.0.csv'\n",
    "    try:\n",
    "        var_input = pd.read_csv(file_name,usecols=[header+model_name,model_name+'_EF',model_name+'_LAI',model_name+'_SMtop0.3m','VPD','obs_SWdown','obs_Tair'])\n",
    "        var_input.rename(columns={header+model_name: 'Qle', model_name+'_EF':'EF',model_name+'_LAI':'LAI',model_name+'_SMtop0.3m':'SM'}, inplace=True)        \n",
    "    except:\n",
    "        var_input = pd.read_csv(file_name,usecols=[header+model_name,model_name+'_EF',model_name+'_LAI','model_mean_SMtop0.3m','VPD','obs_SWdown','obs_Tair'])\n",
    "        var_input.rename(columns={header+model_name: 'Qle', model_name+'_EF':'EF',model_name+'_LAI':'LAI','model_mean_SMtop0.3m':'SM'}, inplace=True)        \n",
    "    \n",
    "    subset            = ['Qle','EF','LAI','SM','VPD','obs_SWdown','obs_Tair']\n",
    "    var_input[subset] = var_input[subset].where(~var_input[subset].isna().any(axis=1), other=np.nan)\n",
    "    masked            = (~np.isnan(var_input['Qle']))\n",
    "    var_input_new     = var_input[masked]\n",
    "    \n",
    "    print(len(var_input_new))\n",
    "    \n",
    "    var_input_new.to_csv(f'/g/data/w97/mm3972/scripts/PLUMBER2/LSM_VPD_PLUMBER2/txt/process3_output/curves/for_AI_training/Qle_filtered_{model_name}.csv')\n",
    "\n"
   ]
  },
  {
   "cell_type": "code",
   "execution_count": null,
   "id": "52c8626b-5899-4c1c-bd01-b56ac42282dd",
   "metadata": {},
   "outputs": [],
   "source": [
    "var_input_new"
   ]
  },
  {
   "cell_type": "code",
   "execution_count": null,
   "id": "46915023-5ea5-4c10-b0a8-b010280b9b7a",
   "metadata": {},
   "outputs": [],
   "source": [
    "\n"
   ]
  }
 ],
 "metadata": {
  "kernelspec": {
   "display_name": "Python [conda env:analysis3-22.01]",
   "language": "python",
   "name": "conda-env-analysis3-22.01-py"
  },
  "language_info": {
   "codemirror_mode": {
    "name": "ipython",
    "version": 3
   },
   "file_extension": ".py",
   "mimetype": "text/x-python",
   "name": "python",
   "nbconvert_exporter": "python",
   "pygments_lexer": "ipython3",
   "version": "3.9.12"
  }
 },
 "nbformat": 4,
 "nbformat_minor": 5
}
