{
 "cells": [
  {
   "cell_type": "code",
   "execution_count": 6,
   "id": "9bfe4452-475c-49c4-b48d-45395fa5e6e0",
   "metadata": {},
   "outputs": [],
   "source": [
    "import os\n",
    "import gc\n",
    "import sys\n",
    "import glob\n",
    "import numpy as np\n",
    "import pandas as pd\n",
    "import netCDF4 as nc\n",
    "from datetime import datetime, timedelta\n",
    "from matplotlib.cm import get_cmap\n",
    "import matplotlib.pyplot as plt\n",
    "from matplotlib import cm\n",
    "from matplotlib import colors\n",
    "import matplotlib.ticker as mticker"
   ]
  },
  {
   "cell_type": "code",
   "execution_count": 7,
   "id": "a12c6e0f-028c-48bb-9c5a-40086e5b18d4",
   "metadata": {},
   "outputs": [],
   "source": [
    "var_output    = pd.read_csv(f'/g/data/w97/mm3972/scripts/PLUMBER2/LSM_VPD_PLUMBER2/txt/Qle_all_sites.csv',na_values=[''])"
   ]
  },
  {
   "cell_type": "code",
   "execution_count": 9,
   "id": "db97f142-9b13-4726-a4fc-a2bfee2bc564",
   "metadata": {},
   "outputs": [
    {
     "data": {
      "text/plain": [
       "Index(['Unnamed: 0', 'time', 'model_1lin', '1lin_EF', 'model_3km27',\n",
       "       '3km27_EF', 'model_6km729', '6km729_EF', 'model_6km729lag',\n",
       "       '6km729lag_EF', 'model_ACASA', 'ACASA_EF', 'model_CABLE', 'CABLE_EF',\n",
       "       'model_CABLE-POP-CN', 'CABLE-POP-CN_EF', 'model_CHTESSEL_ERA5_3',\n",
       "       'CHTESSEL_ERA5_3_EF', 'model_CHTESSEL_Ref_exp1', 'CHTESSEL_Ref_exp1_EF',\n",
       "       'model_CLM5a', 'CLM5a_EF', 'model_GFDL', 'GFDL_EF',\n",
       "       'model_JULES_GL9_withLAI', 'JULES_GL9_withLAI_EF', 'model_JULES_test',\n",
       "       'JULES_test_EF', 'model_LSTM_eb', 'LSTM_eb_EF', 'model_LSTM_raw',\n",
       "       'LSTM_raw_EF', 'model_Manabe', 'Manabe_EF', 'model_ManabeV2',\n",
       "       'ManabeV2_EF', 'model_MATSIRO', 'MATSIRO_EF', 'model_MuSICA',\n",
       "       'MuSICA_EF', 'model_NASAEnt', 'NASAEnt_EF', 'model_NoahMPv401',\n",
       "       'NoahMPv401_EF', 'model_ORC2_r6593', 'ORC2_r6593_EF',\n",
       "       'model_ORC2_r6593_CO2', 'ORC2_r6593_CO2_EF', 'model_ORC3_r7245_NEE',\n",
       "       'ORC3_r7245_NEE_EF', 'model_ORC3_r8120', 'ORC3_r8120_EF',\n",
       "       'model_PenmanMonteith', 'PenmanMonteith_EF', 'model_QUINCY',\n",
       "       'QUINCY_EF', 'model_RF_eb', 'RF_eb_EF', 'model_RF_raw', 'RF_raw_EF',\n",
       "       'model_STEMMUS-SCOPE', 'STEMMUS-SCOPE_EF', 'obs', 'obs_cor', 'obs_EF',\n",
       "       'VPD', 'obs_Tair', 'obs_Qair', 'month', 'hour', 'site_name',\n",
       "       'IGBP_type', 'climate_type', 'ORC2_r6593', 'ORC2_r6593_CO2',\n",
       "       'ORC3_r7245_NEE', 'ORC3_r8120', 'QUINCY', 'MuSICA'],\n",
       "      dtype='object')"
      ]
     },
     "execution_count": 9,
     "metadata": {},
     "output_type": "execute_result"
    }
   ],
   "source": [
    "var_output.columns"
   ]
  },
  {
   "cell_type": "code",
   "execution_count": null,
   "id": "bf78d4ea-cc5c-497e-8486-b2c816de52dd",
   "metadata": {},
   "outputs": [],
   "source": []
  }
 ],
 "metadata": {
  "kernelspec": {
   "display_name": "Python 3 (ipykernel)",
   "language": "python",
   "name": "python3"
  },
  "language_info": {
   "codemirror_mode": {
    "name": "ipython",
    "version": 3
   },
   "file_extension": ".py",
   "mimetype": "text/x-python",
   "name": "python",
   "nbconvert_exporter": "python",
   "pygments_lexer": "ipython3",
   "version": "3.9.13"
  }
 },
 "nbformat": 4,
 "nbformat_minor": 5
}
