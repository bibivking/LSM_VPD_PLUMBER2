{
 "cells": [
  {
   "cell_type": "code",
   "execution_count": 6,
   "id": "833e2ab9-3003-471f-abf3-e2a185bfe870",
   "metadata": {},
   "outputs": [],
   "source": [
    "import os\n",
    "import gc\n",
    "import sys\n",
    "import glob\n",
    "import copy\n",
    "import numpy as np\n",
    "import pandas as pd\n",
    "import netCDF4 as nc\n",
    "import multiprocessing as mp\n",
    "from datetime import datetime, timedelta\n",
    "from matplotlib.cm import get_cmap\n",
    "import matplotlib.pyplot as plt\n",
    "from matplotlib import cm\n",
    "from matplotlib import colors\n",
    "import matplotlib.ticker as mticker"
   ]
  },
  {
   "cell_type": "code",
   "execution_count": 7,
   "id": "9c642ef5-deab-4e66-8a3b-900936e438e6",
   "metadata": {},
   "outputs": [],
   "source": [
    "PLUMBER2_path = \"/g/data/w97/mm3972/scripts/PLUMBER2/LSM_VPD_PLUMBER2/txt/process1_output/Qle_all_sites.csv\"\n",
    "var_output    = pd.read_csv(PLUMBER2_path)"
   ]
  },
  {
   "cell_type": "code",
   "execution_count": 32,
   "id": "305c2ad5-9f30-41b6-92c7-9bbb55f16dcb",
   "metadata": {},
   "outputs": [
    {
     "ename": "NameError",
     "evalue": "name 'model_out_name' is not defined",
     "output_type": "error",
     "traceback": [
      "\u001b[0;31m---------------------------------------------------------------------------\u001b[0m",
      "\u001b[0;31mNameError\u001b[0m                                 Traceback (most recent call last)",
      "Cell \u001b[0;32mIn[32], line 15\u001b[0m\n\u001b[1;32m     11\u001b[0m var_diurnal_cycle \u001b[38;5;241m=\u001b[39m var_masked\u001b[38;5;241m.\u001b[39mgroupby([\u001b[38;5;124m'\u001b[39m\u001b[38;5;124mhour\u001b[39m\u001b[38;5;124m'\u001b[39m])\u001b[38;5;241m.\u001b[39mmean(numeric_only\u001b[38;5;241m=\u001b[39m\u001b[38;5;28;01mTrue\u001b[39;00m)\n\u001b[1;32m     12\u001b[0m \u001b[38;5;66;03m# plt.plot(var_diurnal_cycle['obs_SWdown'], lw=2.0, color='black', alpha=0.9, label=site_name)\u001b[39;00m\n\u001b[1;32m     14\u001b[0m sct \u001b[38;5;241m=\u001b[39m ax\u001b[38;5;241m.\u001b[39mplot(var_diurnal_cycle[\u001b[38;5;124m'\u001b[39m\u001b[38;5;124mobs_SWdown\u001b[39m\u001b[38;5;124m'\u001b[39m], lw\u001b[38;5;241m=\u001b[39m\u001b[38;5;241m2.0\u001b[39m,\n\u001b[0;32m---> 15\u001b[0m                 color\u001b[38;5;241m=\u001b[39m\u001b[38;5;124m'\u001b[39m\u001b[38;5;124mblack\u001b[39m\u001b[38;5;124m'\u001b[39m, alpha\u001b[38;5;241m=\u001b[39m\u001b[38;5;241m0.9\u001b[39m, label\u001b[38;5;241m=\u001b[39m\u001b[43mmodel_out_name\u001b[49m)\n\u001b[1;32m     17\u001b[0m \u001b[38;5;28;01mif\u001b[39;00m var_name \u001b[38;5;241m==\u001b[39m \u001b[38;5;124m'\u001b[39m\u001b[38;5;124mtrans\u001b[39m\u001b[38;5;124m'\u001b[39m:\n\u001b[1;32m     18\u001b[0m     ax\u001b[38;5;241m.\u001b[39mset_ylabel(\u001b[38;5;124m'\u001b[39m\u001b[38;5;124mTranspiration (mm h$\u001b[39m\u001b[38;5;124m\\\u001b[39m\u001b[38;5;124mmathregular\u001b[39m\u001b[38;5;124m{\u001b[39m\u001b[38;5;124m^\u001b[39m\u001b[38;5;124m{\u001b[39m\u001b[38;5;124m-1}}$)\u001b[39m\u001b[38;5;124m'\u001b[39m, loc\u001b[38;5;241m=\u001b[39m\u001b[38;5;124m'\u001b[39m\u001b[38;5;124mcenter\u001b[39m\u001b[38;5;124m'\u001b[39m,size\u001b[38;5;241m=\u001b[39m\u001b[38;5;241m14\u001b[39m)\u001b[38;5;66;03m# rotation=270,\u001b[39;00m\n",
      "\u001b[0;31mNameError\u001b[0m: name 'model_out_name' is not defined"
     ]
    },
    {
     "data": {
      "image/png": "[encoded data removed]",
      "text/plain": [
       "<Figure size 1000x700 with 1 Axes>"
      ]
     },
     "metadata": {},
     "output_type": "display_data"
    }
   ],
   "source": [
    "model_name = 'GFDL'\n",
    "var_name   = 'obs_SWdown'\n",
    "PLUMBER2_path  = \"/g/data/w97/mm3972/scripts/PLUMBER2/LSM_VPD_PLUMBER2/nc_files/\"\n",
    "all_site_path  = sorted(glob.glob(PLUMBER2_path+\"/*.nc\"))\n",
    "site_names     = [os.path.basename(site_path).split(\".\")[0] for site_path in all_site_path]\n",
    "\n",
    "fig, ax = plt.subplots(figsize=[10, 7])\n",
    "\n",
    "for site_name in site_names:\n",
    "    var_masked        = var_output[var_output['site_name'][:] == site_name]\n",
    "    var_diurnal_cycle = var_masked.groupby(['hour']).mean(numeric_only=True)\n",
    "    # plt.plot(var_diurnal_cycle['obs_SWdown'], lw=2.0, color='black', alpha=0.9, label=site_name)\n",
    "\n",
    "    sct = ax.plot(var_diurnal_cycle['obs_SWdown'], lw=2.0,\n",
    "                    color='black', alpha=0.9)\n",
    "\n",
    "    if var_name == 'trans':\n",
    "        ax.set_ylabel('Transpiration (mm h$\\mathregular{^{-1}}$)', loc='center',size=14)# rotation=270,\n",
    "    if var_name == 'latent':\n",
    "        ax.set_ylabel('Latent heat (W m$\\mathregular{^{-2}}$)', loc='center',size=14)# rotation=270,\n",
    "\n",
    "ax.legend(fontsize=8,frameon=False)\n",
    "fig.savefig(\"./plots/diurnal_cycle_\"+var_name,bbox_inches='tight',dpi=300)\n"
   ]
  },
  {
   "cell_type": "code",
   "execution_count": null,
   "id": "e6314828-9560-4fa8-9d23-73461c16699a",
   "metadata": {},
   "outputs": [],
   "source": []
  }
 ],
 "metadata": {
  "kernelspec": {
   "display_name": "Python [conda env:analysis3-22.10]",
   "language": "python",
   "name": "conda-env-analysis3-22.10-py"
  },
  "language_info": {
   "codemirror_mode": {
    "name": "ipython",
    "version": 3
   },
   "file_extension": ".py",
   "mimetype": "text/x-python",
   "name": "python",
   "nbconvert_exporter": "python",
   "pygments_lexer": "ipython3",
   "version": "3.9.15"
  }
 },
 "nbformat": 4,
 "nbformat_minor": 5
}
