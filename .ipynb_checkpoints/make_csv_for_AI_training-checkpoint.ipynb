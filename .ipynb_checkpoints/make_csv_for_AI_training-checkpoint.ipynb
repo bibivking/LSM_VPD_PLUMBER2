{
 "cells": [
  {
   "cell_type": "code",
   "execution_count": 1,
   "id": "3178e1b2-41be-401a-8181-3b1adccdc926",
   "metadata": {},
   "outputs": [],
   "source": [
    "import os\n",
    "import gc\n",
    "import sys\n",
    "import glob\n",
    "import numpy as np\n",
    "import pandas as pd\n",
    "import netCDF4 as nc\n",
    "from datetime import datetime, timedelta\n",
    "from matplotlib.cm import get_cmap\n",
    "import matplotlib.pyplot as plt\n",
    "from matplotlib import cm\n",
    "from matplotlib import colors\n",
    "import scipy.stats as stats\n",
    "import matplotlib.ticker as mticker"
   ]
  },
  {
   "cell_type": "code",
   "execution_count": null,
   "id": "05f3f6da-5359-4ce2-8176-36fb73127f0d",
   "metadata": {},
   "outputs": [],
   "source": [
    "model_names = ['CABLE', 'CABLE-POP-CN',\n",
    "               'CHTESSEL_Ref_exp1', 'CLM5a', 'GFDL',\n",
    "               'JULES_GL9', 'JULES_GL9_withLAI',\n",
    "               'MATSIRO', 'MuSICA', 'NASAEnt',\n",
    "               'NoahMPv401', 'ORC2_r6593',\n",
    "               'ORC3_r8120', 'QUINCY',\n",
    "               'STEMMUS-SCOPE','obs'] \n"
   ]
  },
  {
   "cell_type": "code",
   "execution_count": null,
   "id": "507710de-59cd-4748-baaf-9a6f05d4b998",
   "metadata": {},
   "outputs": [],
   "source": [
    "model_name = \n",
    "if model_name == 'obs':\n",
    "    header = ''\n",
    "else:\n",
    "    header = 'model_'\n",
    "    \n",
    "file_name = '/g/data/w97/mm3972/scripts/PLUMBER2/LSM_VPD_PLUMBER2/txt/process3_output/curves/raw_data_Qle_VPD_hourly_RM16_DT_EF_model_0.0-1.0.csv'\n",
    "var_input = pd.read_csv(file_name,usecols=[header+model_name,model_name+'_EF',model_name+'_LAI',model_name+'_SMtop0.3m','VPD','obs_SWdown','obs_Tair'])"
   ]
  },
  {
   "cell_type": "code",
   "execution_count": null,
   "id": "52c8626b-5899-4c1c-bd01-b56ac42282dd",
   "metadata": {},
   "outputs": [],
   "source": [
    "LAI, soil moisture "
   ]
  },
  {
   "cell_type": "code",
   "execution_count": null,
   "id": "46915023-5ea5-4c10-b0a8-b010280b9b7a",
   "metadata": {},
   "outputs": [],
   "source": [
    ",Unnamed: 0,time,model_CABLE,CABLE_EF,model_CABLE-POP-CN,\n",
    "CABLE-POP-CN_EF,model_CHTESSEL_Ref_exp1,CHTESSEL_Ref_exp1_EF,model_CLM5a,\n",
    "CLM5a_EF,model_GFDL,GFDL_EF,model_JULES_GL9,JULES_GL9_EF,model_JULES_GL9_withLAI,\n",
    "JULES_GL9_withLAI_EF,model_MATSIRO,MATSIRO_EF,model_MuSICA,MuSICA_EF,\n",
    "model_NASAEnt,NASAEnt_EF,model_NoahMPv401,NoahMPv401_EF,model_ORC2_r6593,\n",
    "ORC2_r6593_EF,model_ORC3_r8120,ORC3_r8120_EF,model_QUINCY,QUINCY_EF,\n",
    "model_STEMMUS-SCOPE,STEMMUS-SCOPE_EF,obs,obs_cor,obs_EF,VPD,obs_Tair,\n",
    "obs_Qair,obs_Precip,obs_SWdown,NoahMPv401_greenness,month,hour,site_name,\n",
    "IGBP_type,climate_type,half_hrs_after_precip,CABLE_LAI,CABLE-POP-CN_LAI,\n",
    "CHTESSEL_Ref_exp1_LAI,CLM5a_LAI,GFDL_LAI,JULES_GL9_LAI,JULES_GL9_withLAI_LAI,\n",
    "MATSIRO_LAI,MuSICA_LAI,NASAEnt_LAI,NoahMPv401_LAI,ORC2_r6593_LAI,ORC3_r8120_LAI,\n",
    "QUINCY_LAI,STEMMUS-SCOPE_LAI,obs_LAI,CABLE_normalized_SMtop0.3m,\n",
    "CABLE-POP-CN_normalized_SMtop0.3m,CHTESSEL_Ref_exp1_normalized_SMtop0.3m,\n",
    "CLM5a_normalized_SMtop0.3m,GFDL_normalized_SMtop0.3m,JULES_GL9_normalized_SMtop0.3m,\n",
    "JULES_GL9_withLAI_normalized_SMtop0.3m,MATSIRO_normalized_SMtop0.3m,\n",
    "MuSICA_normalized_SMtop0.3m,NoahMPv401_normalized_SMtop0.3m,\n",
    "ORC2_r6593_normalized_SMtop0.3m,ORC3_r8120_normalized_SMtop0.3m,\n",
    "STEMMUS-SCOPE_normalized_SMtop0.3m,model_mean_normalized_SMtop0.3m,\n"
   ]
  }
 ],
 "metadata": {
  "kernelspec": {
   "display_name": "Python [conda env:analysis3-22.01]",
   "language": "python",
   "name": "conda-env-analysis3-22.01-py"
  },
  "language_info": {
   "codemirror_mode": {
    "name": "ipython",
    "version": 3
   },
   "file_extension": ".py",
   "mimetype": "text/x-python",
   "name": "python",
   "nbconvert_exporter": "python",
   "pygments_lexer": "ipython3",
   "version": "3.9.12"
  }
 },
 "nbformat": 4,
 "nbformat_minor": 5
}
