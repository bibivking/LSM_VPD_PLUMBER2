{
 "cells": [
  {
   "cell_type": "code",
   "execution_count": 1,
   "id": "bd656b91-48e1-4c29-9b5f-50d26a57f8a0",
   "metadata": {},
   "outputs": [],
   "source": [
    "import os\n",
    "import gc\n",
    "import sys\n",
    "import glob\n",
    "import numpy as np\n",
    "import pandas as pd\n",
    "import netCDF4 as nc\n",
    "from datetime import datetime, timedelta\n",
    "from matplotlib.cm import get_cmap\n",
    "import matplotlib.pyplot as plt\n",
    "from matplotlib import cm\n",
    "from matplotlib import colors\n",
    "import matplotlib.ticker as mticker"
   ]
  },
  {
   "cell_type": "code",
   "execution_count": 2,
   "id": "3818e228-01b1-4686-9abc-a428396a0148",
   "metadata": {},
   "outputs": [],
   "source": [
    "file_name = \"/g/data/w97/mm3972/scripts/PLUMBER2/LSM_VPD_PLUMBER2/txt/process3_output/curves/raw_data_Qle_VPD_hourly_RM16_DT_STD_SWdown_EF_model_0.6-0.8.csv\""
   ]
  },
  {
   "cell_type": "code",
   "execution_count": null,
   "id": "09094452-20cf-4e76-bdba-ee9126862054",
   "metadata": {},
   "outputs": [],
   "source": [
    "f_in      = pd.read_csv(file_name)"
   ]
  },
  {
   "cell_type": "code",
   "execution_count": null,
   "id": "62b48949-77ea-4a85-8d4d-efd298407508",
   "metadata": {},
   "outputs": [],
   "source": [
    "f_in"
   ]
  }
 ],
 "metadata": {
  "kernelspec": {
   "display_name": "Python [conda env:analysis3-23.07]",
   "language": "python",
   "name": "conda-env-analysis3-23.07-py"
  },
  "language_info": {
   "codemirror_mode": {
    "name": "ipython",
    "version": 3
   },
   "file_extension": ".py",
   "mimetype": "text/x-python",
   "name": "python",
   "nbconvert_exporter": "python",
   "pygments_lexer": "ipython3",
   "version": "3.10.13"
  }
 },
 "nbformat": 4,
 "nbformat_minor": 5
}
