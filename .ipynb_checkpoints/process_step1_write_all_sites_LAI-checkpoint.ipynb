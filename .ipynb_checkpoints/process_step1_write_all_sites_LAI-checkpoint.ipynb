{
 "cells": [
  {
   "cell_type": "code",
   "execution_count": 9,
   "id": "bbb03982-e7a6-4e52-a50f-f1e2236286e9",
   "metadata": {},
   "outputs": [],
   "source": [
    "import os\n",
    "import sys\n",
    "import gc\n",
    "import glob\n",
    "import numpy as np\n",
    "import pandas as pd\n",
    "import netCDF4 as nc\n",
    "from datetime import datetime, timedelta\n",
    "from matplotlib.cm import get_cmap\n",
    "import matplotlib.pyplot as plt\n",
    "from matplotlib import cm\n",
    "from matplotlib import colors\n",
    "import matplotlib.ticker as mticker"
   ]
  },
  {
   "cell_type": "code",
   "execution_count": 10,
   "id": "b13e41a0-8c9d-4ef7-8c6b-eb3033817a0a",
   "metadata": {},
   "outputs": [],
   "source": [
    "# Path of PLUMBER 2 dataset\n",
    "PLUMBER2_met_path   = \"/g/data/w97/mm3972/data/Fluxnet_data/Post-processed_PLUMBER2_outputs/Nc_files/Met/\"\n",
    "PLUMBER2_path       = \"/g/data/w97/mm3972/scripts/PLUMBER2/LSM_VPD_PLUMBER2/nc_files/\"\n",
    "PLUMBER2_path_input = \"/g/data/w97/mm3972/data/PLUMBER2/\"\n",
    "PLUMBER2_script     = \"/g/data/w97/mm3972/scripts/PLUMBER2/LSM_VPD_PLUMBER2\"\n",
    "\n",
    "models_calc_LAI   = ['ORC2_r6593','ORC2_r6593_CO2','ORC3_r7245_NEE','ORC3_r8120','GFDL','SDGVM','QUINCY','NoahMPv401']\n",
    "model_LAI_names   = {'ORC2_r6593':'lai','ORC2_r6593_CO2':'lai','ORC3_r7245_NEE':'lai','ORC3_r8120':'lai',\n",
    "                     'GFDL':'lai', 'SDGVM':'lai','QUINCY':'LAI','NoahMPv401':'LAI'} #\n",
    "# The site names\n",
    "all_site_path     = sorted(glob.glob(PLUMBER2_met_path+\"/*.nc\"))\n",
    "site_names        = [os.path.basename(site_path).split(\"_\")[0] for site_path in all_site_path]"
   ]
  },
  {
   "cell_type": "code",
   "execution_count": 24,
   "id": "1e176ea8-8c53-45ff-b34e-c1e09d796a74",
   "metadata": {},
   "outputs": [
    {
     "name": "stdout",
     "output_type": "stream",
     "text": [
      "site_name AU-ASM\n",
      "Reading  ORC2_r6593\n",
      "var_LAI[model_with_LAI+'_LAI'][:] 0         0.631127\n",
      "1         0.631127\n",
      "2         0.631127\n",
      "3         0.631127\n",
      "4         0.631127\n",
      "            ...   \n",
      "122731    0.636449\n",
      "122732    0.636449\n",
      "122733    0.636449\n",
      "122734    0.636449\n",
      "122735    0.635376\n",
      "Name: ORC2_r6593_LAI, Length: 122736, dtype: float64\n",
      "var_output.loc[site_mask, model_with_LAI+'_LAI'][:] 210384    0.631127\n",
      "210385    0.631127\n",
      "210386    0.631127\n",
      "210387    0.631127\n",
      "210388    0.631127\n",
      "            ...   \n",
      "333115    0.636449\n",
      "333116    0.636449\n",
      "333117    0.636449\n",
      "333118    0.636449\n",
      "333119    0.635376\n",
      "Name: ORC2_r6593_LAI, Length: 122736, dtype: float64\n"
     ]
    },
    {
     "ename": "ValueError",
     "evalue": "The truth value of an array with more than one element is ambiguous. Use a.any() or a.all()",
     "output_type": "error",
     "traceback": [
      "\u001b[0;31m---------------------------------------------------------------------------\u001b[0m",
      "\u001b[0;31mValueError\u001b[0m                                Traceback (most recent call last)",
      "Cell \u001b[0;32mIn[24], line 41\u001b[0m\n\u001b[1;32m     38\u001b[0m \u001b[38;5;28mprint\u001b[39m(\u001b[38;5;124m\"\u001b[39m\u001b[38;5;124mvar_LAI[model_with_LAI+\u001b[39m\u001b[38;5;124m'\u001b[39m\u001b[38;5;124m_LAI\u001b[39m\u001b[38;5;124m'\u001b[39m\u001b[38;5;124m][:]\u001b[39m\u001b[38;5;124m\"\u001b[39m,var_LAI[model_with_LAI\u001b[38;5;241m+\u001b[39m\u001b[38;5;124m'\u001b[39m\u001b[38;5;124m_LAI\u001b[39m\u001b[38;5;124m'\u001b[39m][:])\n\u001b[1;32m     39\u001b[0m \u001b[38;5;28mprint\u001b[39m(\u001b[38;5;124m\"\u001b[39m\u001b[38;5;124mvar_output.loc[site_mask, model_with_LAI+\u001b[39m\u001b[38;5;124m'\u001b[39m\u001b[38;5;124m_LAI\u001b[39m\u001b[38;5;124m'\u001b[39m\u001b[38;5;124m][:]\u001b[39m\u001b[38;5;124m\"\u001b[39m,var_output\u001b[38;5;241m.\u001b[39mloc[site_mask, model_with_LAI\u001b[38;5;241m+\u001b[39m\u001b[38;5;124m'\u001b[39m\u001b[38;5;124m_LAI\u001b[39m\u001b[38;5;124m'\u001b[39m][:])\n\u001b[0;32m---> 41\u001b[0m \u001b[38;5;28;01mif\u001b[39;00m (var_LAI[model_with_LAI\u001b[38;5;241m+\u001b[39m\u001b[38;5;124m'\u001b[39m\u001b[38;5;124m_LAI\u001b[39m\u001b[38;5;124m'\u001b[39m]\u001b[38;5;241m.\u001b[39mvalues \u001b[38;5;241m==\u001b[39m var_output\u001b[38;5;241m.\u001b[39mloc[site_mask, model_with_LAI\u001b[38;5;241m+\u001b[39m\u001b[38;5;124m'\u001b[39m\u001b[38;5;124m_LAI\u001b[39m\u001b[38;5;124m'\u001b[39m]\u001b[38;5;241m.\u001b[39mvalues):\n\u001b[1;32m     42\u001b[0m     \u001b[38;5;28mprint\u001b[39m(\u001b[38;5;124m\"\u001b[39m\u001b[38;5;124mvar_LAI[model_with_LAI+\u001b[39m\u001b[38;5;124m'\u001b[39m\u001b[38;5;124m_LAI\u001b[39m\u001b[38;5;124m'\u001b[39m\u001b[38;5;124m][:] == var_output.loc[site_mask, model_with_LAI+\u001b[39m\u001b[38;5;124m'\u001b[39m\u001b[38;5;124m_LAI\u001b[39m\u001b[38;5;124m'\u001b[39m\u001b[38;5;124m][:]\u001b[39m\u001b[38;5;124m\"\u001b[39m)\n\u001b[1;32m     43\u001b[0m \u001b[38;5;28;01melse\u001b[39;00m:\n",
      "\u001b[0;31mValueError\u001b[0m: The truth value of an array with more than one element is ambiguous. Use a.any() or a.all()"
     ]
    }
   ],
   "source": [
    "var_output = pd.read_csv(f'{PLUMBER2_script}/txt/process1_output/LAI_all_sites.csv', na_values=[''])\n",
    "\n",
    "for model_with_LAI in models_calc_LAI:\n",
    "    var_output[model_with_LAI+'_LAI'] = np.nan\n",
    "\n",
    "for site_name in site_names[2:3]:\n",
    "    \n",
    "    print('site_name',site_name)\n",
    "    site_mask = (var_output['site_name'] == site_name)\n",
    "    \n",
    "    var_LAI   = pd.read_csv(f'{PLUMBER2_script}/txt/process1_output/LAI/model_LAI_{site_name}.csv', na_values=[''])\n",
    "    \n",
    "    \n",
    "    for model_with_LAI in models_calc_LAI:\n",
    "        print('Reading ', model_with_LAI)\n",
    "        \n",
    "        try:\n",
    "            if len(var_output.loc[site_mask])!=len(var_LAI[model_with_LAI+'_LAI'][:]):\n",
    "                print(f'{model_with_LAI}_LAI','len(var_output.loc[site_mask])',len(var_output.loc[site_mask]),\"len(var_LAI[model_with_LAI+'_LAI'][:])\",len(var_LAI[model_with_LAI+'_LAI'][:]))\n",
    "            \n",
    "            var_output.loc[site_mask, model_with_LAI+'_LAI'] = var_LAI[model_with_LAI+'_LAI'].values\n",
    "            \n",
    "        except ValueError as e:\n",
    "            print(\"ValueError:\", e)\n",
    "            var_output.loc[site_mask, model_with_LAI+'_LAI'][:] = np.nan\n",
    "        except IndexError as e:\n",
    "            print(\"IndexError:\", e)\n",
    "            var_output.loc[site_mask, model_with_LAI+'_LAI'][:] = np.nan\n",
    "        except KeyError as e:\n",
    "            print(\"KeyError:\", e)\n",
    "            var_output.loc[site_mask, model_with_LAI+'_LAI'][:] = np.nan\n",
    "        except:\n",
    "            print(\"General exception encountered!\")\n",
    "            var_output.loc[site_mask, model_with_LAI+'_LAI'][:] = np.nan       \n",
    "            \n",
    "        gc.collect()\n",
    "        \n",
    "        print(\"var_LAI[model_with_LAI+'_LAI'][:]\",var_LAI[model_with_LAI+'_LAI'][:])\n",
    "        print(\"var_output.loc[site_mask, model_with_LAI+'_LAI'][:]\",var_output.loc[site_mask, model_with_LAI+'_LAI'][:])\n",
    "        \n",
    "        if np.all(var_LAI[model_with_LAI+'_LAI'].values == var_output.loc[site_mask, model_with_LAI+'_LAI'].values):\n",
    "            print(\"var_LAI[model_with_LAI+'_LAI'][:] == var_output.loc[site_mask, model_with_LAI+'_LAI'][:]\")\n",
    "        else:\n",
    "            print(\"var_LAI[model_with_LAI+'_LAI'][:] != var_output.loc[site_mask, model_with_LAI+'_LAI'][:]\")\n",
    "            print(var_output.loc[site_mask, model_with_LAI+'_LAI'][:], var_LAI[model_with_LAI+'_LAI'][:])\n",
    "        \n",
    "# print(var_output[models_calc_LAI[0]+'_LAI'])\n",
    "\n",
    "# var_output.to_csv(f'./txt/process1_output/LAI_all_sites_parallel.csv')"
   ]
  },
  {
   "cell_type": "code",
   "execution_count": null,
   "id": "18a685f4-ad20-476d-856f-c7e37e53865b",
   "metadata": {},
   "outputs": [],
   "source": []
  }
 ],
 "metadata": {
  "kernelspec": {
   "display_name": "Python [conda env:analysis3-unstable]",
   "language": "python",
   "name": "conda-env-analysis3-unstable-py"
  },
  "language_info": {
   "codemirror_mode": {
    "name": "ipython",
    "version": 3
   },
   "file_extension": ".py",
   "mimetype": "text/x-python",
   "name": "python",
   "nbconvert_exporter": "python",
   "pygments_lexer": "ipython3",
   "version": "3.10.13"
  }
 },
 "nbformat": 4,
 "nbformat_minor": 5
}
