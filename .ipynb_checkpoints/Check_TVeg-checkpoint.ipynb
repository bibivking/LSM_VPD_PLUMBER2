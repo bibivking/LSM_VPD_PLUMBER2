{
 "cells": [
  {
   "cell_type": "code",
   "execution_count": 71,
   "id": "6516fa22-06b2-4d37-9da0-c66ea047f891",
   "metadata": {},
   "outputs": [],
   "source": [
    "import os\n",
    "import gc\n",
    "import sys\n",
    "import glob\n",
    "import copy\n",
    "import numpy as np\n",
    "import pandas as pd\n",
    "import netCDF4 as nc\n",
    "import multiprocessing as mp\n",
    "from datetime import datetime, timedelta\n",
    "from matplotlib.cm import get_cmap\n",
    "import matplotlib.pyplot as plt\n",
    "from matplotlib import cm\n",
    "from matplotlib import colors\n",
    "import matplotlib.ticker as mticker"
   ]
  },
  {
   "cell_type": "code",
   "execution_count": 72,
   "id": "005c3ab9-6e32-474a-b2aa-312d684d61fa",
   "metadata": {},
   "outputs": [],
   "source": [
    "site_name = 'AU-How'#'AU-Tum'"
   ]
  },
  {
   "cell_type": "code",
   "execution_count": 73,
   "id": "035c8119-6887-4204-9bf5-42cae5d66496",
   "metadata": {},
   "outputs": [],
   "source": [
    "PLUMBER2_path  = \"/g/data/w97/mm3972/scripts/PLUMBER2/LSM_VPD_PLUMBER2/nc_files/\"\n",
    "csv_file  = \"/g/data/w97/mm3972/scripts/PLUMBER2/LSM_VPD_PLUMBER2/txt/process1_output/TVeg_all_sites.csv\"\n",
    "nc_file1  = f\"/g/data/w97/mm3972/scripts/PLUMBER2/LSM_VPD_PLUMBER2/nc_files/{site_name}.nc\"\n",
    "# nc_file2  = \"/g/data/w97/mm3972/data/PLUMBER2/CABLE-POP-CN/AU-Tum_PLUMBER2_CN_out_cable.nc\"\n",
    "nc_file2  = f\"/g/data/w97/mm3972/data/PLUMBER2/CABLE/{site_name}_out.nc\"\n",
    "# nc_file2  = \"/g/data/w97/mm3972/data/PLUMBER2/GFDL/AU-Tum.nc\""
   ]
  },
  {
   "cell_type": "code",
   "execution_count": null,
   "id": "27bcf7ce-dbc6-4c63-b927-44f821556a2d",
   "metadata": {},
   "outputs": [],
   "source": [
    "df_csv   = pd.read_csv(f'{csv_file}',usecols=['site_name','model_CABLE'])\n",
    "TVeg_csv = df_csv.loc[df_csv['site_name'] == site_name,'model_CABLE'].values/3600"
   ]
  },
  {
   "cell_type": "code",
   "execution_count": null,
   "id": "fa426e26-8908-43cc-b033-3630b4b02cd6",
   "metadata": {},
   "outputs": [],
   "source": [
    "df_nc1    = nc.Dataset(nc_file1) \n",
    "# TVeg_nc1  = df_nc1.variables['CABLE-POP-CN_TVeg'][:]\n",
    "# TVeg_nc1  = df_nc1.variables['GFDL_TVeg'][:]\n",
    "TVeg_nc1  = df_nc1.variables['CABLE_TVeg'][:]\n",
    "print(TVeg_nc1)"
   ]
  },
  {
   "cell_type": "code",
   "execution_count": null,
   "id": "62bf9f07-9d68-4d5d-8efe-c912e51e0f3c",
   "metadata": {},
   "outputs": [],
   "source": [
    "df_nc2    = nc.Dataset(nc_file2) \n",
    "TVeg_nc2  = df_nc2.variables['TVeg'][:,0,0]\n",
    "print(TVeg_nc2)"
   ]
  },
  {
   "cell_type": "code",
   "execution_count": null,
   "id": "08a9a77c-9d43-4d29-a24f-4cd51a712d9d",
   "metadata": {},
   "outputs": [],
   "source": [
    "a = np.where(TVeg_nc1!=0,TVeg_nc2/TVeg_nc1,np.nan)\n",
    "for i in np.arange(len(a)):\n",
    "    if not np.isnan(a[i]):\n",
    "        print(a[i])"
   ]
  },
  {
   "cell_type": "code",
   "execution_count": 10,
   "id": "17b05fd6-be7e-4037-a586-9b06e8938302",
   "metadata": {},
   "outputs": [],
   "source": [
    "TVeg_weight = TVeg_nc[:,0]*0.21+TVeg_nc[:,0]*0.14+TVeg_nc[:,0]*0.58+TVeg_nc[:,0]*0.07\n",
    "  # 0.21,\n",
    "  # 0.14,\n",
    "  # 0.58,\n",
    "  # 0.07 ;"
   ]
  },
  {
   "cell_type": "code",
   "execution_count": 11,
   "id": "df2ca8d1-67b2-4886-9caf-70c270808b8c",
   "metadata": {},
   "outputs": [
    {
     "data": {
      "text/plain": [
       "masked_array(\n",
       "  data=[[3.7104840e-07],\n",
       "        [3.6225254e-07],\n",
       "        [3.0174309e-07],\n",
       "        ...,\n",
       "        [2.2183131e-07],\n",
       "        [1.7675546e-07],\n",
       "        [1.3183981e-07]],\n",
       "  mask=False,\n",
       "  fill_value=1e+20,\n",
       "  dtype=float32)"
      ]
     },
     "execution_count": 11,
     "metadata": {},
     "output_type": "execute_result"
    }
   ],
   "source": [
    "TVeg_weight"
   ]
  },
  {
   "cell_type": "code",
   "execution_count": 12,
   "id": "20cf2e58-01a1-4f40-bf0a-d54b8f0c8ce2",
   "metadata": {},
   "outputs": [
    {
     "data": {
      "text/plain": [
       "262992"
      ]
     },
     "execution_count": 12,
     "metadata": {},
     "output_type": "execute_result"
    }
   ],
   "source": [
    "len(TVeg_weight)"
   ]
  },
  {
   "cell_type": "code",
   "execution_count": null,
   "id": "b43f45f2-638c-4a11-bafd-c02a4407223a",
   "metadata": {},
   "outputs": [],
   "source": []
  }
 ],
 "metadata": {
  "kernelspec": {
   "display_name": "Python [conda env:analysis3-24.01]",
   "language": "python",
   "name": "conda-env-analysis3-24.01-py"
  },
  "language_info": {
   "codemirror_mode": {
    "name": "ipython",
    "version": 3
   },
   "file_extension": ".py",
   "mimetype": "text/x-python",
   "name": "python",
   "nbconvert_exporter": "python",
   "pygments_lexer": "ipython3",
   "version": "3.10.13"
  }
 },
 "nbformat": 4,
 "nbformat_minor": 5
}
