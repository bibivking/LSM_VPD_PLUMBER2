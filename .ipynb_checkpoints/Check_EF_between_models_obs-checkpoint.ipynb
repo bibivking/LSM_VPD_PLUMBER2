{
 "cells": [
  {
   "cell_type": "code",
   "execution_count": 1,
   "id": "e14bddff-4ec1-4199-b8bf-404820131e5b",
   "metadata": {},
   "outputs": [],
   "source": [
    "import os\n",
    "import gc\n",
    "import sys\n",
    "import glob\n",
    "import numpy as np\n",
    "import pandas as pd\n",
    "import seaborn as sns\n",
    "import netCDF4 as nc\n",
    "from datetime import datetime, timedelta\n",
    "from matplotlib.cm import get_cmap\n",
    "import matplotlib.pyplot as plt\n",
    "from matplotlib import cm\n",
    "from matplotlib import colors\n",
    "import matplotlib.ticker as mticker\n",
    "from copy import deepcopy"
   ]
  },
  {
   "cell_type": "code",
   "execution_count": 2,
   "id": "f20e7c23-9981-444f-9d5a-2c77637f9559",
   "metadata": {},
   "outputs": [],
   "source": [
    "# To use PLUMBER2_GPP_common_utils, change directory to where it exists\n",
    "os.chdir('/g/data/w97/mm3972/scripts/PLUMBER2/LSM_VPD_PLUMBER2')\n",
    "from PLUMBER2_VPD_common_utils import *"
   ]
  },
  {
   "cell_type": "markdown",
   "id": "b12f808c-6889-429a-80e4-43d3fbf69694",
   "metadata": {},
   "source": [
    "# Check data quality contral"
   ]
  },
  {
   "cell_type": "code",
   "execution_count": 9,
   "id": "e5f508a0-5959-402f-b309-5fb04cac4a8f",
   "metadata": {},
   "outputs": [],
   "source": [
    "# Read quality contral file\n",
    "file_name = \"/g/data/w97/mm3972/scripts/PLUMBER2/LSM_VPD_PLUMBER2/txt/process1_output/Qle_Qh_Rnet_quality_control_all_sites.csv\" \n",
    "Qle_Qh_qc_input       = pd.read_csv(file_name,usecols=['site_name','Qle_Qh_qc'])\n",
    "Qle_Qh_Rnet_qc_input  = pd.read_csv(file_name,usecols=['site_name','Qle_Qh_Rnet_qc'])"
   ]
  },
  {
   "cell_type": "code",
   "execution_count": 10,
   "id": "865b5ad1-68ed-48ec-8a84-dfe256fa8724",
   "metadata": {},
   "outputs": [
    {
     "name": "stdout",
     "output_type": "stream",
     "text": [
      "15762430\n"
     ]
    }
   ],
   "source": [
    "print(np.sum(Qle_Qh_qc_input['Qle_Qh_qc']<=2))"
   ]
  },
  {
   "cell_type": "code",
   "execution_count": 11,
   "id": "519dd912-75d1-418f-a162-b4ea8b560bdf",
   "metadata": {},
   "outputs": [
    {
     "name": "stdout",
     "output_type": "stream",
     "text": [
      "14249075\n"
     ]
    }
   ],
   "source": [
    "print(np.sum(Qle_Qh_Rnet_qc_input['Qle_Qh_Rnet_qc']<=2))"
   ]
  },
  {
   "cell_type": "code",
   "execution_count": 12,
   "id": "dfef69e2-5967-4daa-9629-922262c77688",
   "metadata": {},
   "outputs": [
    {
     "data": {
      "text/html": [
       "<div>\n",
       "<style scoped>\n",
       "    .dataframe tbody tr th:only-of-type {\n",
       "        vertical-align: middle;\n",
       "    }\n",
       "\n",
       "    .dataframe tbody tr th {\n",
       "        vertical-align: top;\n",
       "    }\n",
       "\n",
       "    .dataframe thead th {\n",
       "        text-align: right;\n",
       "    }\n",
       "</style>\n",
       "<table border=\"1\" class=\"dataframe\">\n",
       "  <thead>\n",
       "    <tr style=\"text-align: right;\">\n",
       "      <th></th>\n",
       "      <th>site_name</th>\n",
       "      <th>Qle_Qh_Rnet_qc</th>\n",
       "    </tr>\n",
       "  </thead>\n",
       "  <tbody>\n",
       "    <tr>\n",
       "      <th>5</th>\n",
       "      <td>AR-SLu</td>\n",
       "      <td>NaN</td>\n",
       "    </tr>\n",
       "    <tr>\n",
       "      <th>29</th>\n",
       "      <td>AR-SLu</td>\n",
       "      <td>NaN</td>\n",
       "    </tr>\n",
       "    <tr>\n",
       "      <th>74</th>\n",
       "      <td>AR-SLu</td>\n",
       "      <td>NaN</td>\n",
       "    </tr>\n",
       "    <tr>\n",
       "      <th>75</th>\n",
       "      <td>AR-SLu</td>\n",
       "      <td>NaN</td>\n",
       "    </tr>\n",
       "    <tr>\n",
       "      <th>82</th>\n",
       "      <td>AR-SLu</td>\n",
       "      <td>NaN</td>\n",
       "    </tr>\n",
       "    <tr>\n",
       "      <th>...</th>\n",
       "      <td>...</td>\n",
       "      <td>...</td>\n",
       "    </tr>\n",
       "    <tr>\n",
       "      <th>17126689</th>\n",
       "      <td>ZM-Mon</td>\n",
       "      <td>NaN</td>\n",
       "    </tr>\n",
       "    <tr>\n",
       "      <th>17127217</th>\n",
       "      <td>ZM-Mon</td>\n",
       "      <td>NaN</td>\n",
       "    </tr>\n",
       "    <tr>\n",
       "      <th>17127410</th>\n",
       "      <td>ZM-Mon</td>\n",
       "      <td>NaN</td>\n",
       "    </tr>\n",
       "    <tr>\n",
       "      <th>17130817</th>\n",
       "      <td>ZM-Mon</td>\n",
       "      <td>NaN</td>\n",
       "    </tr>\n",
       "    <tr>\n",
       "      <th>17135570</th>\n",
       "      <td>ZM-Mon</td>\n",
       "      <td>NaN</td>\n",
       "    </tr>\n",
       "  </tbody>\n",
       "</table>\n",
       "<p>1513355 rows × 2 columns</p>\n",
       "</div>"
      ],
      "text/plain": [
       "         site_name  Qle_Qh_Rnet_qc\n",
       "5           AR-SLu             NaN\n",
       "29          AR-SLu             NaN\n",
       "74          AR-SLu             NaN\n",
       "75          AR-SLu             NaN\n",
       "82          AR-SLu             NaN\n",
       "...            ...             ...\n",
       "17126689    ZM-Mon             NaN\n",
       "17127217    ZM-Mon             NaN\n",
       "17127410    ZM-Mon             NaN\n",
       "17130817    ZM-Mon             NaN\n",
       "17135570    ZM-Mon             NaN\n",
       "\n",
       "[1513355 rows x 2 columns]"
      ]
     },
     "execution_count": 12,
     "metadata": {},
     "output_type": "execute_result"
    }
   ],
   "source": [
    "mask = (Qle_Qh_qc_input['Qle_Qh_qc']<=2) & np.isnan(Qle_Qh_Rnet_qc_input['Qle_Qh_Rnet_qc'])\n",
    "Qle_Qh_Rnet_qc_input[mask]"
   ]
  },
  {
   "cell_type": "code",
   "execution_count": 13,
   "id": "f854066d-ed38-4dec-a604-6523e9af0e8d",
   "metadata": {},
   "outputs": [
    {
     "data": {
      "text/html": [
       "<div>\n",
       "<style scoped>\n",
       "    .dataframe tbody tr th:only-of-type {\n",
       "        vertical-align: middle;\n",
       "    }\n",
       "\n",
       "    .dataframe tbody tr th {\n",
       "        vertical-align: top;\n",
       "    }\n",
       "\n",
       "    .dataframe thead th {\n",
       "        text-align: right;\n",
       "    }\n",
       "</style>\n",
       "<table border=\"1\" class=\"dataframe\">\n",
       "  <thead>\n",
       "    <tr style=\"text-align: right;\">\n",
       "      <th></th>\n",
       "      <th>site_name</th>\n",
       "      <th>Qle_Qh_qc</th>\n",
       "    </tr>\n",
       "  </thead>\n",
       "  <tbody>\n",
       "  </tbody>\n",
       "</table>\n",
       "</div>"
      ],
      "text/plain": [
       "Empty DataFrame\n",
       "Columns: [site_name, Qle_Qh_qc]\n",
       "Index: []"
      ]
     },
     "execution_count": 13,
     "metadata": {},
     "output_type": "execute_result"
    }
   ],
   "source": [
    "mask = (Qle_Qh_Rnet_qc_input['Qle_Qh_Rnet_qc']<=2) & np.isnan(Qle_Qh_qc_input['Qle_Qh_qc'])\n",
    "Qle_Qh_qc_input[mask]"
   ]
  },
  {
   "cell_type": "markdown",
   "id": "e6c7ca49-22bf-4207-9e6b-0a5ba7c5eacf",
   "metadata": {},
   "source": [
    "#### Conclusion: there are 1513355 data points whose Qh and Qle can meet quailty contral requirement but Rnet cannot."
   ]
  },
  {
   "cell_type": "markdown",
   "id": "6892bcd9-46aa-4900-9144-2318afb3918d",
   "metadata": {},
   "source": [
    "# Check EF between models and obs"
   ]
  },
  {
   "cell_type": "code",
   "execution_count": 14,
   "id": "23fc8ba5-5b5d-447d-a9e0-b4582ace916a",
   "metadata": {},
   "outputs": [],
   "source": [
    "model_names = ['CABLE', 'CABLE-POP-CN',\n",
    "               'CHTESSEL_Ref_exp1', 'CLM5a', 'GFDL',\n",
    "               'JULES_GL9', 'JULES_GL9_withLAI',\n",
    "               'MATSIRO', 'MuSICA', 'NASAEnt',\n",
    "               'NoahMPv401', 'ORC2_r6593',\n",
    "               'ORC3_r8120', 'QUINCY',\n",
    "               'STEMMUS-SCOPE','obs'] \n",
    "model_colors = {\n",
    "                'obs': 'black',\n",
    "                'CMIP6':'firebrick',\n",
    "                'CABLE':'darkblue',\n",
    "                'CABLE-POP-CN':'blue',\n",
    "                'CHTESSEL_ERA5_3':'coral',\n",
    "                'CHTESSEL_Ref_exp1':'cornflowerblue',\n",
    "                'CLM5a':'deepskyblue',\n",
    "                'GFDL':'c',\n",
    "                'JULES_GL9':'aquamarine',\n",
    "                'JULES_GL9_withLAI':'yellowgreen',\n",
    "                'JULES_test':'forestgreen',\n",
    "                'LPJ-GUESS':'darkolivegreen',\n",
    "                'MATSIRO':'forestgreen',\n",
    "                'MuSICA':'lime',\n",
    "                'NASAEnt':'gold' , # 'yellow'\n",
    "                'NoahMPv401':'orange' ,\n",
    "                'ORC2_r6593':'pink',#'limegreen'\n",
    "                'ORC2_r6593_CO2':'pink',\n",
    "                'ORC3_r7245_NEE':'red',\n",
    "                'ORC3_r8120':'deeppink',\n",
    "                'QUINCY':'mediumorchid',\n",
    "                'SDGVM': 'darkviolet',\n",
    "                'STEMMUS-SCOPE':'purple',# ,\n",
    "                'all_model_same':'skyblue'\n",
    "                }"
   ]
  },
  {
   "cell_type": "markdown",
   "id": "f3a753ac-cb20-45eb-88b4-ec006d8361d9",
   "metadata": {},
   "source": [
    "## Check hourly/half-hourly EF"
   ]
  },
  {
   "cell_type": "code",
   "execution_count": 53,
   "id": "62f892e9-cee5-43d5-9262-33d84fc18d33",
   "metadata": {},
   "outputs": [],
   "source": [
    "file_name = \"/g/data/w97/mm3972/scripts/PLUMBER2/LSM_VPD_PLUMBER2/txt/process1_output/Qle_all_sites.csv\"\n",
    "EF_input  = pd.read_csv(file_name, usecols=\n",
    "                       ['obs_SWdown','CABLE_EF', 'CABLE-POP-CN_EF', 'CHTESSEL_Ref_exp1_EF', 'CLM5a_EF', 'GFDL_EF',\n",
    "                       'JULES_GL9_EF', 'JULES_GL9_withLAI_EF', 'MATSIRO_EF', 'MuSICA_EF', 'NASAEnt_EF',\n",
    "                       'NoahMPv401_EF', 'ORC2_r6593_EF', 'ORC3_r8120_EF', 'QUINCY_EF', 'STEMMUS-SCOPE_EF','obs_EF'] )"
   ]
  },
  {
   "cell_type": "code",
   "execution_count": 54,
   "id": "df02bce8-61d8-4623-b515-f75613f67722",
   "metadata": {},
   "outputs": [],
   "source": [
    "mask_out     = (EF_input['obs_SWdown'] > 10)\n",
    "EF_input_new = EF_input[mask_out]"
   ]
  },
  {
   "cell_type": "code",
   "execution_count": 55,
   "id": "02247c3f-353b-465c-990c-137573cea17f",
   "metadata": {},
   "outputs": [
    {
     "data": {
      "text/plain": [
       "8254506"
      ]
     },
     "execution_count": 55,
     "metadata": {},
     "output_type": "execute_result"
    }
   ],
   "source": [
    "len(EF_input_new)"
   ]
  },
  {
   "cell_type": "code",
   "execution_count": 97,
   "id": "4bb37f51-b30a-44e7-aeab-b0adc579b475",
   "metadata": {},
   "outputs": [
    {
     "data": {
      "image/png": "[encoded data removed]",
      "text/plain": [
       "<Figure size 800x700 with 1 Axes>"
      ]
     },
     "metadata": {},
     "output_type": "display_data"
    }
   ],
   "source": [
    "# create figure\n",
    "fig, ax    = plt.subplots(nrows=1, ncols=1, figsize=[8,7],sharex=True, sharey=False, squeeze=True)\n",
    "\n",
    "for model_name in model_names:\n",
    "    # remove nan values\n",
    "    # model_mask = ~ np.isnan(EF_input[model_name+'_EF'])\n",
    "    hist = ax.hist(EF_input_new[model_name+'_EF'], bins=5, alpha=1., color=model_colors[model_name], label=model_name, histtype='step')\n",
    "    ax.set_xlim(0, 1)\n",
    "    fig.savefig(f\"/g/data/w97/mm3972/scripts/PLUMBER2/LSM_VPD_PLUMBER2/plots/check_EF_pdf.png\", bbox_inches='tight',dpi=300)"
   ]
  },
  {
   "cell_type": "markdown",
   "id": "54c5f22d-6c75-4f17-a5df-ab49244891d2",
   "metadata": {},
   "source": [
    "## Check daily EF"
   ]
  },
  {
   "cell_type": "code",
   "execution_count": 19,
   "id": "45249082-a668-4430-85e2-3cdb24396e38",
   "metadata": {},
   "outputs": [],
   "source": [
    "file_name   = \"/g/data/w97/mm3972/scripts/PLUMBER2/LSM_VPD_PLUMBER2/txt/process2_output/EF_all_sites_1_day_mean.csv\"\n",
    "EF_input_1  = pd.read_csv(file_name, usecols=\n",
    "                         ['model_CABLE', 'model_CABLE-POP-CN', 'model_CHTESSEL_Ref_exp1', 'model_CLM5a', 'model_GFDL',\n",
    "                          'model_JULES_GL9', 'model_JULES_GL9_withLAI', 'model_MATSIRO', 'model_MuSICA', 'model_NASAEnt',\n",
    "                          'model_NoahMPv401', 'model_ORC2_r6593', 'model_ORC3_r8120', 'model_QUINCY', 'model_STEMMUS-SCOPE','obs'])"
   ]
  },
  {
   "cell_type": "markdown",
   "id": "26be3877-cf87-4cff-83a4-c2c9b3105e6d",
   "metadata": {},
   "source": [
    "### Check why daily EF > 1 or EF < 0"
   ]
  },
  {
   "cell_type": "code",
   "execution_count": 5,
   "id": "cc34a899-a47b-4b5f-befa-fe4e83acb6d4",
   "metadata": {},
   "outputs": [],
   "source": [
    "site_names, IGBP_types, clim_types, model_names = load_default_list()\n",
    "model_names = model_names['model_select_new']\n",
    "file_name   = \"/g/data/w97/mm3972/scripts/PLUMBER2/LSM_VPD_PLUMBER2/txt/process1_output/Qle_all_sites.csv\"\n",
    "Qle_input   = pd.read_csv(file_name, usecols=\n",
    "                         ['model_CABLE', 'model_CABLE-POP-CN', 'model_CHTESSEL_Ref_exp1', 'model_CLM5a', 'model_GFDL',\n",
    "                          'model_JULES_GL9', 'model_JULES_GL9_withLAI', 'model_MATSIRO', 'model_MuSICA', 'model_NASAEnt',\n",
    "                          'model_NoahMPv401', 'model_ORC2_r6593', 'model_ORC3_r8120', 'model_QUINCY', 'model_STEMMUS-SCOPE','obs'])"
   ]
  },
  {
   "cell_type": "code",
   "execution_count": 6,
   "id": "0b67e387-1e11-406f-b997-c8e47e3bdc19",
   "metadata": {},
   "outputs": [],
   "source": [
    "file_name   = \"/g/data/w97/mm3972/scripts/PLUMBER2/LSM_VPD_PLUMBER2/txt/process1_output/Qh_all_sites.csv\"\n",
    "Qh_input    = pd.read_csv(file_name, usecols=\n",
    "                         ['model_CABLE', 'model_CABLE-POP-CN', 'model_CHTESSEL_Ref_exp1', 'model_CLM5a', 'model_GFDL',\n",
    "                          'model_JULES_GL9', 'model_JULES_GL9_withLAI', 'model_MATSIRO', 'model_MuSICA', 'model_NASAEnt',\n",
    "                          'model_NoahMPv401', 'model_ORC2_r6593', 'model_ORC3_r8120', 'model_QUINCY', 'model_STEMMUS-SCOPE','obs'])"
   ]
  },
  {
   "cell_type": "code",
   "execution_count": 52,
   "id": "712ab236-288a-4cc0-80a8-e76b324a48b7",
   "metadata": {},
   "outputs": [
    {
     "data": {
      "text/plain": [
       "8254506"
      ]
     },
     "execution_count": 52,
     "metadata": {},
     "output_type": "execute_result"
    }
   ],
   "source": [
    "EF_input_1 = EF_input_1[mask_out]"
   ]
  },
  {
   "cell_type": "code",
   "execution_count": null,
   "id": "c079a726-3cd0-4b1d-a4b4-1db33166b39c",
   "metadata": {},
   "outputs": [],
   "source": [
    "EF_input_1"
   ]
  },
  {
   "cell_type": "code",
   "execution_count": 12,
   "id": "d2a86424-b9a3-44a5-a3f0-6a047c0ef472",
   "metadata": {},
   "outputs": [
    {
     "data": {
      "text/plain": [
       "True"
      ]
     },
     "execution_count": 12,
     "metadata": {},
     "output_type": "execute_result"
    }
   ],
   "source": [
    "np.any((EF_input_1['model_CABLE'] <0) & ((Qle_input['model_CABLE']< 0)|(Qh_input['model_CABLE']< 0)) )"
   ]
  },
  {
   "cell_type": "code",
   "execution_count": 85,
   "id": "4d306c65-b36d-4079-8b72-1a1b7d849a77",
   "metadata": {},
   "outputs": [
    {
     "data": {
      "text/plain": [
       "14174845"
      ]
     },
     "execution_count": 85,
     "metadata": {},
     "output_type": "execute_result"
    }
   ],
   "source": [
    "np.sum((EF_input_1['model_CABLE'] <1) & (EF_input_1['model_CABLE'] >0))"
   ]
  },
  {
   "cell_type": "code",
   "execution_count": 86,
   "id": "890a1b5f-8371-491e-a29f-d0d30bff7a80",
   "metadata": {},
   "outputs": [
    {
     "data": {
      "text/plain": [
       "1084762"
      ]
     },
     "execution_count": 86,
     "metadata": {},
     "output_type": "execute_result"
    }
   ],
   "source": [
    "np.sum((EF_input_1['model_CABLE'] <0) & (EF_input_1['model_CABLE'] >-1))"
   ]
  },
  {
   "cell_type": "code",
   "execution_count": 87,
   "id": "ed554124-a274-440c-a56b-1b74d3c8a463",
   "metadata": {},
   "outputs": [
    {
     "data": {
      "text/plain": [
       "172587"
      ]
     },
     "execution_count": 87,
     "metadata": {},
     "output_type": "execute_result"
    }
   ],
   "source": [
    "np.sum((EF_input_1['model_CABLE'] <-1) & (EF_input_1['model_CABLE'] >-2))"
   ]
  },
  {
   "cell_type": "markdown",
   "id": "ff3a1ca2-3372-4691-8da9-39db57e73f69",
   "metadata": {},
   "source": [
    "### Calculate common data points"
   ]
  },
  {
   "cell_type": "code",
   "execution_count": 22,
   "id": "79b3dfba-73a7-4844-a8f4-fbb71d8c3ae7",
   "metadata": {},
   "outputs": [
    {
     "data": {
      "text/html": [
       "<div>\n",
       "<style scoped>\n",
       "    .dataframe tbody tr th:only-of-type {\n",
       "        vertical-align: middle;\n",
       "    }\n",
       "\n",
       "    .dataframe tbody tr th {\n",
       "        vertical-align: top;\n",
       "    }\n",
       "\n",
       "    .dataframe thead th {\n",
       "        text-align: right;\n",
       "    }\n",
       "</style>\n",
       "<table border=\"1\" class=\"dataframe\">\n",
       "  <thead>\n",
       "    <tr style=\"text-align: right;\">\n",
       "      <th></th>\n",
       "      <th>model_CABLE</th>\n",
       "      <th>model_CABLE-POP-CN</th>\n",
       "      <th>model_CHTESSEL_Ref_exp1</th>\n",
       "      <th>model_CLM5a</th>\n",
       "      <th>model_GFDL</th>\n",
       "      <th>model_JULES_GL9</th>\n",
       "      <th>model_JULES_GL9_withLAI</th>\n",
       "      <th>model_MATSIRO</th>\n",
       "      <th>model_MuSICA</th>\n",
       "      <th>model_NASAEnt</th>\n",
       "      <th>model_NoahMPv401</th>\n",
       "      <th>model_ORC2_r6593</th>\n",
       "      <th>model_ORC3_r8120</th>\n",
       "      <th>model_QUINCY</th>\n",
       "      <th>model_STEMMUS-SCOPE</th>\n",
       "      <th>obs</th>\n",
       "    </tr>\n",
       "  </thead>\n",
       "  <tbody>\n",
       "    <tr>\n",
       "      <th>0</th>\n",
       "      <td>0.499109</td>\n",
       "      <td>0.374241</td>\n",
       "      <td>0.518373</td>\n",
       "      <td>0.409463</td>\n",
       "      <td>0.661298</td>\n",
       "      <td>0.379768</td>\n",
       "      <td>0.437581</td>\n",
       "      <td>0.404794</td>\n",
       "      <td>0.326481</td>\n",
       "      <td>0.340965</td>\n",
       "      <td>0.366452</td>\n",
       "      <td>0.317503</td>\n",
       "      <td>0.340495</td>\n",
       "      <td>0.172636</td>\n",
       "      <td>0.676387</td>\n",
       "      <td>0.573836</td>\n",
       "    </tr>\n",
       "    <tr>\n",
       "      <th>1</th>\n",
       "      <td>0.499109</td>\n",
       "      <td>0.374241</td>\n",
       "      <td>0.518373</td>\n",
       "      <td>0.409463</td>\n",
       "      <td>0.661298</td>\n",
       "      <td>0.379768</td>\n",
       "      <td>0.437581</td>\n",
       "      <td>0.404794</td>\n",
       "      <td>0.326481</td>\n",
       "      <td>0.340965</td>\n",
       "      <td>0.366452</td>\n",
       "      <td>0.317503</td>\n",
       "      <td>0.340495</td>\n",
       "      <td>0.172636</td>\n",
       "      <td>0.676387</td>\n",
       "      <td>0.573836</td>\n",
       "    </tr>\n",
       "    <tr>\n",
       "      <th>2</th>\n",
       "      <td>0.499109</td>\n",
       "      <td>0.374241</td>\n",
       "      <td>0.518373</td>\n",
       "      <td>0.409463</td>\n",
       "      <td>0.661298</td>\n",
       "      <td>0.379768</td>\n",
       "      <td>0.437581</td>\n",
       "      <td>0.404794</td>\n",
       "      <td>0.326481</td>\n",
       "      <td>0.340965</td>\n",
       "      <td>0.366452</td>\n",
       "      <td>0.317503</td>\n",
       "      <td>0.340495</td>\n",
       "      <td>0.172636</td>\n",
       "      <td>0.676387</td>\n",
       "      <td>0.573836</td>\n",
       "    </tr>\n",
       "    <tr>\n",
       "      <th>3</th>\n",
       "      <td>0.499109</td>\n",
       "      <td>0.374241</td>\n",
       "      <td>0.518373</td>\n",
       "      <td>0.409463</td>\n",
       "      <td>0.661298</td>\n",
       "      <td>0.379768</td>\n",
       "      <td>0.437581</td>\n",
       "      <td>0.404794</td>\n",
       "      <td>0.326481</td>\n",
       "      <td>0.340965</td>\n",
       "      <td>0.366452</td>\n",
       "      <td>0.317503</td>\n",
       "      <td>0.340495</td>\n",
       "      <td>0.172636</td>\n",
       "      <td>0.676387</td>\n",
       "      <td>0.573836</td>\n",
       "    </tr>\n",
       "    <tr>\n",
       "      <th>4</th>\n",
       "      <td>0.499109</td>\n",
       "      <td>0.374241</td>\n",
       "      <td>0.518373</td>\n",
       "      <td>0.409463</td>\n",
       "      <td>0.661298</td>\n",
       "      <td>0.379768</td>\n",
       "      <td>0.437581</td>\n",
       "      <td>0.404794</td>\n",
       "      <td>0.326481</td>\n",
       "      <td>0.340965</td>\n",
       "      <td>0.366452</td>\n",
       "      <td>0.317503</td>\n",
       "      <td>0.340495</td>\n",
       "      <td>0.172636</td>\n",
       "      <td>0.676387</td>\n",
       "      <td>0.573836</td>\n",
       "    </tr>\n",
       "    <tr>\n",
       "      <th>...</th>\n",
       "      <td>...</td>\n",
       "      <td>...</td>\n",
       "      <td>...</td>\n",
       "      <td>...</td>\n",
       "      <td>...</td>\n",
       "      <td>...</td>\n",
       "      <td>...</td>\n",
       "      <td>...</td>\n",
       "      <td>...</td>\n",
       "      <td>...</td>\n",
       "      <td>...</td>\n",
       "      <td>...</td>\n",
       "      <td>...</td>\n",
       "      <td>...</td>\n",
       "      <td>...</td>\n",
       "      <td>...</td>\n",
       "    </tr>\n",
       "    <tr>\n",
       "      <th>17137987</th>\n",
       "      <td>NaN</td>\n",
       "      <td>NaN</td>\n",
       "      <td>NaN</td>\n",
       "      <td>NaN</td>\n",
       "      <td>NaN</td>\n",
       "      <td>NaN</td>\n",
       "      <td>NaN</td>\n",
       "      <td>NaN</td>\n",
       "      <td>NaN</td>\n",
       "      <td>NaN</td>\n",
       "      <td>NaN</td>\n",
       "      <td>NaN</td>\n",
       "      <td>NaN</td>\n",
       "      <td>NaN</td>\n",
       "      <td>NaN</td>\n",
       "      <td>NaN</td>\n",
       "    </tr>\n",
       "    <tr>\n",
       "      <th>17137988</th>\n",
       "      <td>NaN</td>\n",
       "      <td>NaN</td>\n",
       "      <td>NaN</td>\n",
       "      <td>NaN</td>\n",
       "      <td>NaN</td>\n",
       "      <td>NaN</td>\n",
       "      <td>NaN</td>\n",
       "      <td>NaN</td>\n",
       "      <td>NaN</td>\n",
       "      <td>NaN</td>\n",
       "      <td>NaN</td>\n",
       "      <td>NaN</td>\n",
       "      <td>NaN</td>\n",
       "      <td>NaN</td>\n",
       "      <td>NaN</td>\n",
       "      <td>NaN</td>\n",
       "    </tr>\n",
       "    <tr>\n",
       "      <th>17137989</th>\n",
       "      <td>NaN</td>\n",
       "      <td>NaN</td>\n",
       "      <td>NaN</td>\n",
       "      <td>NaN</td>\n",
       "      <td>NaN</td>\n",
       "      <td>NaN</td>\n",
       "      <td>NaN</td>\n",
       "      <td>NaN</td>\n",
       "      <td>NaN</td>\n",
       "      <td>NaN</td>\n",
       "      <td>NaN</td>\n",
       "      <td>NaN</td>\n",
       "      <td>NaN</td>\n",
       "      <td>NaN</td>\n",
       "      <td>NaN</td>\n",
       "      <td>NaN</td>\n",
       "    </tr>\n",
       "    <tr>\n",
       "      <th>17137990</th>\n",
       "      <td>NaN</td>\n",
       "      <td>NaN</td>\n",
       "      <td>NaN</td>\n",
       "      <td>NaN</td>\n",
       "      <td>NaN</td>\n",
       "      <td>NaN</td>\n",
       "      <td>NaN</td>\n",
       "      <td>NaN</td>\n",
       "      <td>NaN</td>\n",
       "      <td>NaN</td>\n",
       "      <td>NaN</td>\n",
       "      <td>NaN</td>\n",
       "      <td>NaN</td>\n",
       "      <td>NaN</td>\n",
       "      <td>NaN</td>\n",
       "      <td>NaN</td>\n",
       "    </tr>\n",
       "    <tr>\n",
       "      <th>17137991</th>\n",
       "      <td>NaN</td>\n",
       "      <td>NaN</td>\n",
       "      <td>NaN</td>\n",
       "      <td>NaN</td>\n",
       "      <td>NaN</td>\n",
       "      <td>NaN</td>\n",
       "      <td>NaN</td>\n",
       "      <td>NaN</td>\n",
       "      <td>NaN</td>\n",
       "      <td>NaN</td>\n",
       "      <td>NaN</td>\n",
       "      <td>NaN</td>\n",
       "      <td>NaN</td>\n",
       "      <td>NaN</td>\n",
       "      <td>NaN</td>\n",
       "      <td>NaN</td>\n",
       "    </tr>\n",
       "  </tbody>\n",
       "</table>\n",
       "<p>17137992 rows × 16 columns</p>\n",
       "</div>"
      ],
      "text/plain": [
       "          model_CABLE  model_CABLE-POP-CN  model_CHTESSEL_Ref_exp1  \\\n",
       "0            0.499109            0.374241                 0.518373   \n",
       "1            0.499109            0.374241                 0.518373   \n",
       "2            0.499109            0.374241                 0.518373   \n",
       "3            0.499109            0.374241                 0.518373   \n",
       "4            0.499109            0.374241                 0.518373   \n",
       "...               ...                 ...                      ...   \n",
       "17137987          NaN                 NaN                      NaN   \n",
       "17137988          NaN                 NaN                      NaN   \n",
       "17137989          NaN                 NaN                      NaN   \n",
       "17137990          NaN                 NaN                      NaN   \n",
       "17137991          NaN                 NaN                      NaN   \n",
       "\n",
       "          model_CLM5a  model_GFDL  model_JULES_GL9  model_JULES_GL9_withLAI  \\\n",
       "0            0.409463    0.661298         0.379768                 0.437581   \n",
       "1            0.409463    0.661298         0.379768                 0.437581   \n",
       "2            0.409463    0.661298         0.379768                 0.437581   \n",
       "3            0.409463    0.661298         0.379768                 0.437581   \n",
       "4            0.409463    0.661298         0.379768                 0.437581   \n",
       "...               ...         ...              ...                      ...   \n",
       "17137987          NaN         NaN              NaN                      NaN   \n",
       "17137988          NaN         NaN              NaN                      NaN   \n",
       "17137989          NaN         NaN              NaN                      NaN   \n",
       "17137990          NaN         NaN              NaN                      NaN   \n",
       "17137991          NaN         NaN              NaN                      NaN   \n",
       "\n",
       "          model_MATSIRO  model_MuSICA  model_NASAEnt  model_NoahMPv401  \\\n",
       "0              0.404794      0.326481       0.340965          0.366452   \n",
       "1              0.404794      0.326481       0.340965          0.366452   \n",
       "2              0.404794      0.326481       0.340965          0.366452   \n",
       "3              0.404794      0.326481       0.340965          0.366452   \n",
       "4              0.404794      0.326481       0.340965          0.366452   \n",
       "...                 ...           ...            ...               ...   \n",
       "17137987            NaN           NaN            NaN               NaN   \n",
       "17137988            NaN           NaN            NaN               NaN   \n",
       "17137989            NaN           NaN            NaN               NaN   \n",
       "17137990            NaN           NaN            NaN               NaN   \n",
       "17137991            NaN           NaN            NaN               NaN   \n",
       "\n",
       "          model_ORC2_r6593  model_ORC3_r8120  model_QUINCY  \\\n",
       "0                 0.317503          0.340495      0.172636   \n",
       "1                 0.317503          0.340495      0.172636   \n",
       "2                 0.317503          0.340495      0.172636   \n",
       "3                 0.317503          0.340495      0.172636   \n",
       "4                 0.317503          0.340495      0.172636   \n",
       "...                    ...               ...           ...   \n",
       "17137987               NaN               NaN           NaN   \n",
       "17137988               NaN               NaN           NaN   \n",
       "17137989               NaN               NaN           NaN   \n",
       "17137990               NaN               NaN           NaN   \n",
       "17137991               NaN               NaN           NaN   \n",
       "\n",
       "          model_STEMMUS-SCOPE       obs  \n",
       "0                    0.676387  0.573836  \n",
       "1                    0.676387  0.573836  \n",
       "2                    0.676387  0.573836  \n",
       "3                    0.676387  0.573836  \n",
       "4                    0.676387  0.573836  \n",
       "...                       ...       ...  \n",
       "17137987                  NaN       NaN  \n",
       "17137988                  NaN       NaN  \n",
       "17137989                  NaN       NaN  \n",
       "17137990                  NaN       NaN  \n",
       "17137991                  NaN       NaN  \n",
       "\n",
       "[17137992 rows x 16 columns]"
      ]
     },
     "execution_count": 22,
     "metadata": {},
     "output_type": "execute_result"
    }
   ],
   "source": [
    "EF_input_1"
   ]
  },
  {
   "cell_type": "code",
   "execution_count": 20,
   "id": "938a246c-14f8-464a-a88d-3b9f47ba73fd",
   "metadata": {},
   "outputs": [],
   "source": [
    "model_names = ['model_CABLE', 'model_CABLE-POP-CN', 'model_CHTESSEL_Ref_exp1', 'model_CLM5a', 'model_GFDL',\n",
    "               'model_JULES_GL9', 'model_JULES_GL9_withLAI', 'model_MATSIRO', 'model_MuSICA', 'model_NASAEnt',\n",
    "               'model_NoahMPv401', 'model_ORC2_r6593', 'model_ORC3_r8120', 'model_QUINCY', 'model_STEMMUS-SCOPE','obs']"
   ]
  },
  {
   "cell_type": "code",
   "execution_count": 23,
   "id": "46430a5e-c8df-450a-b85e-668f5116649b",
   "metadata": {},
   "outputs": [],
   "source": [
    "for model_name in model_names:\n",
    "    EF_input_1.loc[:,model_name] = np.where( EF_input_1[model_name].values<0, np.nan,  EF_input_1[model_name].values)\n",
    "    EF_input_1.loc[:,model_name] = np.where( EF_input_1[model_name].values< 0.2, 0.1,  EF_input_1[model_name].values)\n",
    "    EF_input_1.loc[:,model_name] = np.where( EF_input_1[model_name].values< 0.4, 0.3,  EF_input_1[model_name].values)\n",
    "    EF_input_1.loc[:,model_name] = np.where( EF_input_1[model_name].values< 0.6, 0.5,  EF_input_1[model_name].values)\n",
    "    EF_input_1.loc[:,model_name] = np.where( EF_input_1[model_name].values< 0.8, 0.7,  EF_input_1[model_name].values)\n",
    "    EF_input_1.loc[:,model_name] = np.where( EF_input_1[model_name].values<=1.0, 0.9,  EF_input_1[model_name].values)\n",
    "    EF_input_1.loc[:,model_name] = np.where( EF_input_1[model_name].values>1.0, np.nan,EF_input_1[model_name].values)"
   ]
  },
  {
   "cell_type": "code",
   "execution_count": 24,
   "id": "48faebc4-552b-4452-88db-3e99b04826c3",
   "metadata": {},
   "outputs": [
    {
     "data": {
      "text/html": [
       "<div>\n",
       "<style scoped>\n",
       "    .dataframe tbody tr th:only-of-type {\n",
       "        vertical-align: middle;\n",
       "    }\n",
       "\n",
       "    .dataframe tbody tr th {\n",
       "        vertical-align: top;\n",
       "    }\n",
       "\n",
       "    .dataframe thead th {\n",
       "        text-align: right;\n",
       "    }\n",
       "</style>\n",
       "<table border=\"1\" class=\"dataframe\">\n",
       "  <thead>\n",
       "    <tr style=\"text-align: right;\">\n",
       "      <th></th>\n",
       "      <th>model_CABLE</th>\n",
       "      <th>model_CABLE-POP-CN</th>\n",
       "      <th>model_CHTESSEL_Ref_exp1</th>\n",
       "      <th>model_CLM5a</th>\n",
       "      <th>model_GFDL</th>\n",
       "      <th>model_JULES_GL9</th>\n",
       "      <th>model_JULES_GL9_withLAI</th>\n",
       "      <th>model_MATSIRO</th>\n",
       "      <th>model_MuSICA</th>\n",
       "      <th>model_NASAEnt</th>\n",
       "      <th>model_NoahMPv401</th>\n",
       "      <th>model_ORC2_r6593</th>\n",
       "      <th>model_ORC3_r8120</th>\n",
       "      <th>model_QUINCY</th>\n",
       "      <th>model_STEMMUS-SCOPE</th>\n",
       "      <th>obs</th>\n",
       "    </tr>\n",
       "  </thead>\n",
       "  <tbody>\n",
       "    <tr>\n",
       "      <th>0</th>\n",
       "      <td>0.9</td>\n",
       "      <td>0.9</td>\n",
       "      <td>0.9</td>\n",
       "      <td>0.9</td>\n",
       "      <td>0.9</td>\n",
       "      <td>0.9</td>\n",
       "      <td>0.9</td>\n",
       "      <td>0.9</td>\n",
       "      <td>0.9</td>\n",
       "      <td>0.9</td>\n",
       "      <td>0.9</td>\n",
       "      <td>0.9</td>\n",
       "      <td>0.9</td>\n",
       "      <td>0.9</td>\n",
       "      <td>0.9</td>\n",
       "      <td>0.9</td>\n",
       "    </tr>\n",
       "    <tr>\n",
       "      <th>1</th>\n",
       "      <td>0.9</td>\n",
       "      <td>0.9</td>\n",
       "      <td>0.9</td>\n",
       "      <td>0.9</td>\n",
       "      <td>0.9</td>\n",
       "      <td>0.9</td>\n",
       "      <td>0.9</td>\n",
       "      <td>0.9</td>\n",
       "      <td>0.9</td>\n",
       "      <td>0.9</td>\n",
       "      <td>0.9</td>\n",
       "      <td>0.9</td>\n",
       "      <td>0.9</td>\n",
       "      <td>0.9</td>\n",
       "      <td>0.9</td>\n",
       "      <td>0.9</td>\n",
       "    </tr>\n",
       "    <tr>\n",
       "      <th>2</th>\n",
       "      <td>0.9</td>\n",
       "      <td>0.9</td>\n",
       "      <td>0.9</td>\n",
       "      <td>0.9</td>\n",
       "      <td>0.9</td>\n",
       "      <td>0.9</td>\n",
       "      <td>0.9</td>\n",
       "      <td>0.9</td>\n",
       "      <td>0.9</td>\n",
       "      <td>0.9</td>\n",
       "      <td>0.9</td>\n",
       "      <td>0.9</td>\n",
       "      <td>0.9</td>\n",
       "      <td>0.9</td>\n",
       "      <td>0.9</td>\n",
       "      <td>0.9</td>\n",
       "    </tr>\n",
       "    <tr>\n",
       "      <th>3</th>\n",
       "      <td>0.9</td>\n",
       "      <td>0.9</td>\n",
       "      <td>0.9</td>\n",
       "      <td>0.9</td>\n",
       "      <td>0.9</td>\n",
       "      <td>0.9</td>\n",
       "      <td>0.9</td>\n",
       "      <td>0.9</td>\n",
       "      <td>0.9</td>\n",
       "      <td>0.9</td>\n",
       "      <td>0.9</td>\n",
       "      <td>0.9</td>\n",
       "      <td>0.9</td>\n",
       "      <td>0.9</td>\n",
       "      <td>0.9</td>\n",
       "      <td>0.9</td>\n",
       "    </tr>\n",
       "    <tr>\n",
       "      <th>4</th>\n",
       "      <td>0.9</td>\n",
       "      <td>0.9</td>\n",
       "      <td>0.9</td>\n",
       "      <td>0.9</td>\n",
       "      <td>0.9</td>\n",
       "      <td>0.9</td>\n",
       "      <td>0.9</td>\n",
       "      <td>0.9</td>\n",
       "      <td>0.9</td>\n",
       "      <td>0.9</td>\n",
       "      <td>0.9</td>\n",
       "      <td>0.9</td>\n",
       "      <td>0.9</td>\n",
       "      <td>0.9</td>\n",
       "      <td>0.9</td>\n",
       "      <td>0.9</td>\n",
       "    </tr>\n",
       "    <tr>\n",
       "      <th>...</th>\n",
       "      <td>...</td>\n",
       "      <td>...</td>\n",
       "      <td>...</td>\n",
       "      <td>...</td>\n",
       "      <td>...</td>\n",
       "      <td>...</td>\n",
       "      <td>...</td>\n",
       "      <td>...</td>\n",
       "      <td>...</td>\n",
       "      <td>...</td>\n",
       "      <td>...</td>\n",
       "      <td>...</td>\n",
       "      <td>...</td>\n",
       "      <td>...</td>\n",
       "      <td>...</td>\n",
       "      <td>...</td>\n",
       "    </tr>\n",
       "    <tr>\n",
       "      <th>17137987</th>\n",
       "      <td>NaN</td>\n",
       "      <td>NaN</td>\n",
       "      <td>NaN</td>\n",
       "      <td>NaN</td>\n",
       "      <td>NaN</td>\n",
       "      <td>NaN</td>\n",
       "      <td>NaN</td>\n",
       "      <td>NaN</td>\n",
       "      <td>NaN</td>\n",
       "      <td>NaN</td>\n",
       "      <td>NaN</td>\n",
       "      <td>NaN</td>\n",
       "      <td>NaN</td>\n",
       "      <td>NaN</td>\n",
       "      <td>NaN</td>\n",
       "      <td>NaN</td>\n",
       "    </tr>\n",
       "    <tr>\n",
       "      <th>17137988</th>\n",
       "      <td>NaN</td>\n",
       "      <td>NaN</td>\n",
       "      <td>NaN</td>\n",
       "      <td>NaN</td>\n",
       "      <td>NaN</td>\n",
       "      <td>NaN</td>\n",
       "      <td>NaN</td>\n",
       "      <td>NaN</td>\n",
       "      <td>NaN</td>\n",
       "      <td>NaN</td>\n",
       "      <td>NaN</td>\n",
       "      <td>NaN</td>\n",
       "      <td>NaN</td>\n",
       "      <td>NaN</td>\n",
       "      <td>NaN</td>\n",
       "      <td>NaN</td>\n",
       "    </tr>\n",
       "    <tr>\n",
       "      <th>17137989</th>\n",
       "      <td>NaN</td>\n",
       "      <td>NaN</td>\n",
       "      <td>NaN</td>\n",
       "      <td>NaN</td>\n",
       "      <td>NaN</td>\n",
       "      <td>NaN</td>\n",
       "      <td>NaN</td>\n",
       "      <td>NaN</td>\n",
       "      <td>NaN</td>\n",
       "      <td>NaN</td>\n",
       "      <td>NaN</td>\n",
       "      <td>NaN</td>\n",
       "      <td>NaN</td>\n",
       "      <td>NaN</td>\n",
       "      <td>NaN</td>\n",
       "      <td>NaN</td>\n",
       "    </tr>\n",
       "    <tr>\n",
       "      <th>17137990</th>\n",
       "      <td>NaN</td>\n",
       "      <td>NaN</td>\n",
       "      <td>NaN</td>\n",
       "      <td>NaN</td>\n",
       "      <td>NaN</td>\n",
       "      <td>NaN</td>\n",
       "      <td>NaN</td>\n",
       "      <td>NaN</td>\n",
       "      <td>NaN</td>\n",
       "      <td>NaN</td>\n",
       "      <td>NaN</td>\n",
       "      <td>NaN</td>\n",
       "      <td>NaN</td>\n",
       "      <td>NaN</td>\n",
       "      <td>NaN</td>\n",
       "      <td>NaN</td>\n",
       "    </tr>\n",
       "    <tr>\n",
       "      <th>17137991</th>\n",
       "      <td>NaN</td>\n",
       "      <td>NaN</td>\n",
       "      <td>NaN</td>\n",
       "      <td>NaN</td>\n",
       "      <td>NaN</td>\n",
       "      <td>NaN</td>\n",
       "      <td>NaN</td>\n",
       "      <td>NaN</td>\n",
       "      <td>NaN</td>\n",
       "      <td>NaN</td>\n",
       "      <td>NaN</td>\n",
       "      <td>NaN</td>\n",
       "      <td>NaN</td>\n",
       "      <td>NaN</td>\n",
       "      <td>NaN</td>\n",
       "      <td>NaN</td>\n",
       "    </tr>\n",
       "  </tbody>\n",
       "</table>\n",
       "<p>17137992 rows × 16 columns</p>\n",
       "</div>"
      ],
      "text/plain": [
       "          model_CABLE  model_CABLE-POP-CN  model_CHTESSEL_Ref_exp1  \\\n",
       "0                 0.9                 0.9                      0.9   \n",
       "1                 0.9                 0.9                      0.9   \n",
       "2                 0.9                 0.9                      0.9   \n",
       "3                 0.9                 0.9                      0.9   \n",
       "4                 0.9                 0.9                      0.9   \n",
       "...               ...                 ...                      ...   \n",
       "17137987          NaN                 NaN                      NaN   \n",
       "17137988          NaN                 NaN                      NaN   \n",
       "17137989          NaN                 NaN                      NaN   \n",
       "17137990          NaN                 NaN                      NaN   \n",
       "17137991          NaN                 NaN                      NaN   \n",
       "\n",
       "          model_CLM5a  model_GFDL  model_JULES_GL9  model_JULES_GL9_withLAI  \\\n",
       "0                 0.9         0.9              0.9                      0.9   \n",
       "1                 0.9         0.9              0.9                      0.9   \n",
       "2                 0.9         0.9              0.9                      0.9   \n",
       "3                 0.9         0.9              0.9                      0.9   \n",
       "4                 0.9         0.9              0.9                      0.9   \n",
       "...               ...         ...              ...                      ...   \n",
       "17137987          NaN         NaN              NaN                      NaN   \n",
       "17137988          NaN         NaN              NaN                      NaN   \n",
       "17137989          NaN         NaN              NaN                      NaN   \n",
       "17137990          NaN         NaN              NaN                      NaN   \n",
       "17137991          NaN         NaN              NaN                      NaN   \n",
       "\n",
       "          model_MATSIRO  model_MuSICA  model_NASAEnt  model_NoahMPv401  \\\n",
       "0                   0.9           0.9            0.9               0.9   \n",
       "1                   0.9           0.9            0.9               0.9   \n",
       "2                   0.9           0.9            0.9               0.9   \n",
       "3                   0.9           0.9            0.9               0.9   \n",
       "4                   0.9           0.9            0.9               0.9   \n",
       "...                 ...           ...            ...               ...   \n",
       "17137987            NaN           NaN            NaN               NaN   \n",
       "17137988            NaN           NaN            NaN               NaN   \n",
       "17137989            NaN           NaN            NaN               NaN   \n",
       "17137990            NaN           NaN            NaN               NaN   \n",
       "17137991            NaN           NaN            NaN               NaN   \n",
       "\n",
       "          model_ORC2_r6593  model_ORC3_r8120  model_QUINCY  \\\n",
       "0                      0.9               0.9           0.9   \n",
       "1                      0.9               0.9           0.9   \n",
       "2                      0.9               0.9           0.9   \n",
       "3                      0.9               0.9           0.9   \n",
       "4                      0.9               0.9           0.9   \n",
       "...                    ...               ...           ...   \n",
       "17137987               NaN               NaN           NaN   \n",
       "17137988               NaN               NaN           NaN   \n",
       "17137989               NaN               NaN           NaN   \n",
       "17137990               NaN               NaN           NaN   \n",
       "17137991               NaN               NaN           NaN   \n",
       "\n",
       "          model_STEMMUS-SCOPE  obs  \n",
       "0                         0.9  0.9  \n",
       "1                         0.9  0.9  \n",
       "2                         0.9  0.9  \n",
       "3                         0.9  0.9  \n",
       "4                         0.9  0.9  \n",
       "...                       ...  ...  \n",
       "17137987                  NaN  NaN  \n",
       "17137988                  NaN  NaN  \n",
       "17137989                  NaN  NaN  \n",
       "17137990                  NaN  NaN  \n",
       "17137991                  NaN  NaN  \n",
       "\n",
       "[17137992 rows x 16 columns]"
      ]
     },
     "execution_count": 24,
     "metadata": {},
     "output_type": "execute_result"
    }
   ],
   "source": [
    "EF_input_1"
   ]
  },
  {
   "cell_type": "code",
   "execution_count": 6,
   "id": "3e354bd4-bbf6-47c0-b7c0-f9f92f43d072",
   "metadata": {},
   "outputs": [],
   "source": [
    "EF_input_1['all_model_same'] = EF_input_1.loc['obs'].values"
   ]
  },
  {
   "cell_type": "code",
   "execution_count": 7,
   "id": "0b2e058a-0321-465d-ac0f-42e9ec15c190",
   "metadata": {},
   "outputs": [],
   "source": [
    "EF_input_1['all_model_same']"
   ]
  },
  {
   "cell_type": "code",
   "execution_count": 8,
   "id": "f9bb5f97-3234-4d84-8908-c746dbba8fe9",
   "metadata": {},
   "outputs": [],
   "source": [
    "EF_input_1['all_model_same'] = EF_input_1['all_model_same'].where(~EF_input_1[model_names].isna().any(axis=1), other=np.nan)"
   ]
  },
  {
   "cell_type": "code",
   "execution_count": null,
   "id": "0c698d2a-a25d-40a4-89cb-89c1e3bb52d0",
   "metadata": {},
   "outputs": [
    {
     "name": "stderr",
     "output_type": "stream",
     "text": [
      "/jobfs/118638244.gadi-pbs/ipykernel_3126672/2001373966.py:2: FutureWarning: Series.__getitem__ treating keys as positions is deprecated. In a future version, integer keys will always be treated as labels (consistent with DataFrame behavior). To access a value by position, use `ser.iloc[pos]`\n",
      "  EF_input_1['all_model_same'] = EF_input_1[model_names].apply(lambda row: row[0] if (row == row[0]).all() else np.nan, axis=1)\n"
     ]
    }
   ],
   "source": [
    "# Create the new column based on the comparison\n",
    "EF_input_1['all_model_same'] = EF_input_1[model_names].apply(lambda row: row[0] if (row == row[0]).all() else np.nan, axis=1)\n"
   ]
  },
  {
   "cell_type": "code",
   "execution_count": 10,
   "id": "c1aa99bd-182d-4878-b93a-5fcd6ff5ace7",
   "metadata": {},
   "outputs": [],
   "source": []
  },
  {
   "cell_type": "code",
   "execution_count": 14,
   "id": "344d2cee-f9e6-4062-9617-3947adb6857c",
   "metadata": {},
   "outputs": [
    {
     "data": {
      "text/plain": [
       "array([[0.9, 0.9, 0.9, ..., 0.9, 0.9, 0.9],\n",
       "       [0.9, 0.9, 0.9, ..., 0.9, 0.9, 0.9],\n",
       "       [0.9, 0.9, 0.9, ..., 0.9, 0.9, 0.9],\n",
       "       ...,\n",
       "       [nan, nan, nan, ..., nan, nan, nan],\n",
       "       [nan, nan, nan, ..., nan, nan, nan],\n",
       "       [nan, nan, nan, ..., nan, nan, nan]])"
      ]
     },
     "execution_count": 14,
     "metadata": {},
     "output_type": "execute_result"
    }
   ],
   "source": [
    "EF_input_1"
   ]
  },
  {
   "cell_type": "code",
   "execution_count": 16,
   "id": "56f71ab6-6c21-46d7-9b83-8440221d461c",
   "metadata": {},
   "outputs": [
    {
     "data": {
      "image/png": "[encoded data removed]",
      "text/plain": [
       "<Figure size 800x700 with 1 Axes>"
      ]
     },
     "metadata": {},
     "output_type": "display_data"
    }
   ],
   "source": [
    "# create figure\n",
    "fig, ax    = plt.subplots(nrows=1, ncols=1, figsize=[8,7],sharex=True, sharey=False, squeeze=True)\n",
    "\n",
    "for model_name in model_names:\n",
    "    if model_name == 'obs':\n",
    "        head = ''\n",
    "    else: \n",
    "        head = 'model_'\n",
    "    # remove nan values\n",
    "    model_mask = (EF_input_1[head+model_name] > 0) & (EF_input_1[head+model_name] < 1.) \n",
    "    hist = ax.hist(EF_input_1.loc[model_mask, head+model_name], bins=5, alpha=1., color=model_colors[model_name], label=model_name, histtype='step')\n",
    "    # hist = ax.plot(EF_input_1[head+model_name].rolling(window=50000, min_periods=1).mean(), alpha=1., color=model_colors[model_name], label=model_name)\n",
    "    ax.set_xlim(0, 1)\n",
    "    # ax.set_ylim(-100, 200)\n",
    "    # fig.savefig(f\"/g/data/w97/mm3972/scripts/PLUMBER2/LSM_VPD_PLUMBER2/plots/check_EF_pdf.png\", bbox_inches='tight',dpi=300)"
   ]
  },
  {
   "cell_type": "markdown",
   "id": "93549d97-ad91-4d5a-8af4-ab8828203e63",
   "metadata": {},
   "source": [
    "# Check 5-day smoothing EF"
   ]
  },
  {
   "cell_type": "code",
   "execution_count": 19,
   "id": "d7fe7a5e-2134-4c71-b834-61e823136865",
   "metadata": {},
   "outputs": [],
   "source": [
    "file_name = \"/g/data/w97/mm3972/scripts/PLUMBER2/LSM_VPD_PLUMBER2/txt/process2_output/EF_all_sites_5_day_mean.csv\"\n",
    "EF_input_5  = pd.read_csv(file_name, usecols=\n",
    "                         ['model_CABLE', 'model_CABLE-POP-CN', 'model_CHTESSEL_Ref_exp1', 'model_CLM5a', 'model_GFDL',\n",
    "                          'model_JULES_GL9', 'model_JULES_GL9_withLAI', 'model_MATSIRO', 'model_MuSICA', 'model_NASAEnt',\n",
    "                          'model_NoahMPv401', 'model_ORC2_r6593', 'model_ORC3_r8120', 'model_QUINCY', 'model_STEMMUS-SCOPE','obs'])"
   ]
  },
  {
   "cell_type": "code",
   "execution_count": null,
   "id": "0391a830-f396-4f31-bbd9-7ad3c4f5705e",
   "metadata": {},
   "outputs": [],
   "source": [
    "EF_low   = 0\n",
    "EF_high  = 0.3\n",
    "\n",
    "fig, ax  = plt.subplots(nrows=1, ncols=1, figsize=[10,10],sharex=True, sharey=False, squeeze=True)\n",
    "\n",
    "for model_name in model_names:\n",
    "    mask = (EF_day[model_name+'_EF']>EF_low) & (EF_day[model_name+'_EF']<EF_high)\n",
    "    hist = ax.hist(EF_day.loc[mask, 'hour'], bins=23, alpha=1., color=model_colors[model_name], label=model_name, histtype='step')\n",
    "    \n",
    "    # print(model_name,EF_day.loc[mask, 'hour'])\n",
    "    ax.set_xlim(0,23)\n",
    "    ax.set_xticks(np.arange(0,24,1))\n",
    "fig.savefig('./Fig_curves_EF_0_0.3_hours_PDF.png',bbox_inches='tight',dpi=300) # '_30percent'\n"
   ]
  },
  {
   "cell_type": "code",
   "execution_count": 20,
   "id": "d5ddfeee-41cf-470c-b56f-3693fa26f006",
   "metadata": {},
   "outputs": [
    {
     "data": {
      "image/png": "[encoded data removed]",
      "text/plain": [
       "<Figure size 800x700 with 1 Axes>"
      ]
     },
     "metadata": {},
     "output_type": "display_data"
    }
   ],
   "source": [
    "# create figure\n",
    "fig, ax    = plt.subplots(nrows=1, ncols=1, figsize=[8,7],sharex=True, sharey=False, squeeze=True)\n",
    "\n",
    "for model_name in model_names:\n",
    "    if model_name == 'obs':\n",
    "        head = ''\n",
    "    else: \n",
    "        head = 'model_'\n",
    "    # remove nan values\n",
    "    model_mask = (EF_input_5[head+model_name] > 0) & (EF_input_5[head+model_name] < 1.) \n",
    "    hist = ax.hist(EF_input_5.loc[model_mask, head+model_name], bins=5, alpha=1., color=model_colors[model_name], label=model_name, histtype='step')\n",
    "    ax.set_xlim(0, 1)"
   ]
  },
  {
   "cell_type": "markdown",
   "id": "928200d3-9382-41ed-bf73-9bf130299781",
   "metadata": {},
   "source": [
    "# Check missed SM files"
   ]
  },
  {
   "cell_type": "code",
   "execution_count": 8,
   "id": "a30468e4-39fb-4975-900d-919ce5038793",
   "metadata": {},
   "outputs": [],
   "source": [
    "site_names, IGBP_types, clim_types, model_names = load_default_list()"
   ]
  },
  {
   "cell_type": "code",
   "execution_count": 5,
   "id": "6e71834e-cc38-46de-a19b-6144510312e7",
   "metadata": {},
   "outputs": [
    {
     "name": "stdout",
     "output_type": "stream",
     "text": [
      "US-NR1 does not exist\n"
     ]
    }
   ],
   "source": [
    "for site_name in site_names[:171]:\n",
    "    # print(site_name)\n",
    "    file_path = f'/g/data/w97/mm3972/scripts/PLUMBER2/LSM_VPD_PLUMBER2/txt/process2_output/SMtop0.5m_percentile_sites/SMtop0.5m_percentile_{site_name}.csv'\n",
    "\n",
    "    try:\n",
    "        SM_input  = pd.read_csv(file_path)\n",
    "    except:\n",
    "        print(site_name,'does not exist')"
   ]
  },
  {
   "cell_type": "code",
   "execution_count": null,
   "id": "03c08f93-bac0-478e-8ec2-0768984cacb2",
   "metadata": {},
   "outputs": [],
   "source": []
  }
 ],
 "metadata": {
  "kernelspec": {
   "display_name": "Python [conda env:analysis3-unstable]",
   "language": "python",
   "name": "conda-env-analysis3-unstable-py"
  },
  "language_info": {
   "codemirror_mode": {
    "name": "ipython",
    "version": 3
   },
   "file_extension": ".py",
   "mimetype": "text/x-python",
   "name": "python",
   "nbconvert_exporter": "python",
   "pygments_lexer": "ipython3",
   "version": "3.10.14"
  }
 },
 "nbformat": 4,
 "nbformat_minor": 5
}
