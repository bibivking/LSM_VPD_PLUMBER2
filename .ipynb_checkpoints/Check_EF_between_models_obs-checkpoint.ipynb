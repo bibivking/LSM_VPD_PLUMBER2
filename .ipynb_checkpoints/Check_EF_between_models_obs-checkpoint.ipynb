{
 "cells": [
  {
   "cell_type": "code",
   "execution_count": 1,
   "id": "e14bddff-4ec1-4199-b8bf-404820131e5b",
   "metadata": {},
   "outputs": [],
   "source": [
    "import os\n",
    "import gc\n",
    "import sys\n",
    "import glob\n",
    "import numpy as np\n",
    "import pandas as pd\n",
    "import seaborn as sns\n",
    "import netCDF4 as nc\n",
    "from datetime import datetime, timedelta\n",
    "from matplotlib.cm import get_cmap\n",
    "import matplotlib.pyplot as plt\n",
    "from matplotlib import cm\n",
    "from matplotlib import colors\n",
    "import matplotlib.ticker as mticker\n",
    "from copy import deepcopy"
   ]
  },
  {
   "cell_type": "code",
   "execution_count": 2,
   "id": "f20e7c23-9981-444f-9d5a-2c77637f9559",
   "metadata": {},
   "outputs": [],
   "source": [
    "# To use PLUMBER2_GPP_common_utils, change directory to where it exists\n",
    "os.chdir('/g/data/w97/mm3972/scripts/PLUMBER2/LSM_VPD_PLUMBER2')\n",
    "from PLUMBER2_VPD_common_utils import *"
   ]
  },
  {
   "cell_type": "markdown",
   "id": "b12f808c-6889-429a-80e4-43d3fbf69694",
   "metadata": {},
   "source": [
    "# Check data quality contral"
   ]
  },
  {
   "cell_type": "code",
   "execution_count": 22,
   "id": "e5f508a0-5959-402f-b309-5fb04cac4a8f",
   "metadata": {},
   "outputs": [],
   "source": [
    "# Read quality contral file\n",
    "file_name = \"/g/data/w97/mm3972/scripts/PLUMBER2/LSM_VPD_PLUMBER2/txt/process1_output/Qle_Qh_Rnet_quality_control_all_sites.csv\" \n",
    "Qle_Qh_qc_input       = pd.read_csv(file_name,usecols=['site_name','Qle_Qh_qc'])\n",
    "Qle_Qh_Rnet_qc_input  = pd.read_csv(file_name,usecols=['site_name','Qle_Qh_Rnet_qc'])"
   ]
  },
  {
   "cell_type": "code",
   "execution_count": 24,
   "id": "865b5ad1-68ed-48ec-8a84-dfe256fa8724",
   "metadata": {},
   "outputs": [
    {
     "name": "stdout",
     "output_type": "stream",
     "text": [
      "15762430\n"
     ]
    }
   ],
   "source": [
    "print(np.sum(Qle_Qh_qc_input['Qle_Qh_qc']<=2))"
   ]
  },
  {
   "cell_type": "code",
   "execution_count": 25,
   "id": "519dd912-75d1-418f-a162-b4ea8b560bdf",
   "metadata": {},
   "outputs": [
    {
     "name": "stdout",
     "output_type": "stream",
     "text": [
      "14249075\n"
     ]
    }
   ],
   "source": [
    "print(np.sum(Qle_Qh_Rnet_qc_input['Qle_Qh_Rnet_qc']<=2))"
   ]
  },
  {
   "cell_type": "code",
   "execution_count": 17,
   "id": "dfef69e2-5967-4daa-9629-922262c77688",
   "metadata": {},
   "outputs": [],
   "source": [
    "mask = (Qle_Qh_qc_input['Qle_Qh_qc']<=2) & np.isnan(Qle_Qh_Rnet_qc_input['Qle_Qh_Rnet_qc'])\n",
    "Qle_Qh_Rnet_qc_input[mask]"
   ]
  },
  {
   "cell_type": "code",
   "execution_count": 29,
   "id": "f854066d-ed38-4dec-a604-6523e9af0e8d",
   "metadata": {},
   "outputs": [
    {
     "data": {
      "text/html": [
       "<div>\n",
       "<style scoped>\n",
       "    .dataframe tbody tr th:only-of-type {\n",
       "        vertical-align: middle;\n",
       "    }\n",
       "\n",
       "    .dataframe tbody tr th {\n",
       "        vertical-align: top;\n",
       "    }\n",
       "\n",
       "    .dataframe thead th {\n",
       "        text-align: right;\n",
       "    }\n",
       "</style>\n",
       "<table border=\"1\" class=\"dataframe\">\n",
       "  <thead>\n",
       "    <tr style=\"text-align: right;\">\n",
       "      <th></th>\n",
       "      <th>site_name</th>\n",
       "      <th>Qle_Qh_qc</th>\n",
       "    </tr>\n",
       "  </thead>\n",
       "  <tbody>\n",
       "  </tbody>\n",
       "</table>\n",
       "</div>"
      ],
      "text/plain": [
       "Empty DataFrame\n",
       "Columns: [site_name, Qle_Qh_qc]\n",
       "Index: []"
      ]
     },
     "execution_count": 29,
     "metadata": {},
     "output_type": "execute_result"
    }
   ],
   "source": [
    "mask = (Qle_Qh_Rnet_qc_input['Qle_Qh_Rnet_qc']<=2) & np.isnan(Qle_Qh_qc_input['Qle_Qh_qc'])\n",
    "Qle_Qh_qc_input[mask]"
   ]
  },
  {
   "cell_type": "markdown",
   "id": "e6c7ca49-22bf-4207-9e6b-0a5ba7c5eacf",
   "metadata": {},
   "source": [
    "#### Conclusion: there are 1513355 data points whose Qh and Qle can meet quailty contral requirement but Rnet cannot."
   ]
  },
  {
   "cell_type": "markdown",
   "id": "6892bcd9-46aa-4900-9144-2318afb3918d",
   "metadata": {},
   "source": [
    "# Check EF between models and obs"
   ]
  },
  {
   "cell_type": "code",
   "execution_count": 3,
   "id": "23fc8ba5-5b5d-447d-a9e0-b4582ace916a",
   "metadata": {},
   "outputs": [],
   "source": [
    "model_names = ['CABLE', 'CABLE-POP-CN',\n",
    "               'CHTESSEL_Ref_exp1', 'CLM5a', 'GFDL',\n",
    "               'JULES_GL9', 'JULES_GL9_withLAI',\n",
    "               'MATSIRO', 'MuSICA', 'NASAEnt',\n",
    "               'NoahMPv401', 'ORC2_r6593',\n",
    "               'ORC3_r8120', 'QUINCY',\n",
    "               'STEMMUS-SCOPE','obs'] \n",
    "model_colors = {\n",
    "                'obs': 'black',\n",
    "                'CMIP6':'firebrick',\n",
    "                'CABLE':'darkblue',\n",
    "                'CABLE-POP-CN':'blue',\n",
    "                'CHTESSEL_ERA5_3':'coral',\n",
    "                'CHTESSEL_Ref_exp1':'cornflowerblue',\n",
    "                'CLM5a':'deepskyblue',\n",
    "                'GFDL':'c',\n",
    "                'JULES_GL9':'aquamarine',\n",
    "                'JULES_GL9_withLAI':'yellowgreen',\n",
    "                'JULES_test':'forestgreen',\n",
    "                'LPJ-GUESS':'darkolivegreen',\n",
    "                'MATSIRO':'forestgreen',\n",
    "                'MuSICA':'lime',\n",
    "                'NASAEnt':'gold' , # 'yellow'\n",
    "                'NoahMPv401':'orange' ,\n",
    "                'ORC2_r6593':'pink',#'limegreen'\n",
    "                'ORC2_r6593_CO2':'pink',\n",
    "                'ORC3_r7245_NEE':'red',\n",
    "                'ORC3_r8120':'deeppink',\n",
    "                'QUINCY':'mediumorchid',\n",
    "                'SDGVM': 'darkviolet',\n",
    "                'STEMMUS-SCOPE':'purple',# ,\n",
    "                }"
   ]
  },
  {
   "cell_type": "markdown",
   "id": "f3a753ac-cb20-45eb-88b4-ec006d8361d9",
   "metadata": {},
   "source": [
    "## Check hourly/half-hourly EF"
   ]
  },
  {
   "cell_type": "code",
   "execution_count": 53,
   "id": "62f892e9-cee5-43d5-9262-33d84fc18d33",
   "metadata": {},
   "outputs": [],
   "source": [
    "file_name = \"/g/data/w97/mm3972/scripts/PLUMBER2/LSM_VPD_PLUMBER2/txt/process1_output/Qle_all_sites.csv\"\n",
    "EF_input  = pd.read_csv(file_name, usecols=\n",
    "                       ['obs_SWdown','CABLE_EF', 'CABLE-POP-CN_EF', 'CHTESSEL_Ref_exp1_EF', 'CLM5a_EF', 'GFDL_EF',\n",
    "                       'JULES_GL9_EF', 'JULES_GL9_withLAI_EF', 'MATSIRO_EF', 'MuSICA_EF', 'NASAEnt_EF',\n",
    "                       'NoahMPv401_EF', 'ORC2_r6593_EF', 'ORC3_r8120_EF', 'QUINCY_EF', 'STEMMUS-SCOPE_EF','obs_EF'] )"
   ]
  },
  {
   "cell_type": "code",
   "execution_count": 54,
   "id": "df02bce8-61d8-4623-b515-f75613f67722",
   "metadata": {},
   "outputs": [],
   "source": [
    "mask_out     = (EF_input['obs_SWdown'] > 10)\n",
    "EF_input_new = EF_input[mask_out]"
   ]
  },
  {
   "cell_type": "code",
   "execution_count": 55,
   "id": "02247c3f-353b-465c-990c-137573cea17f",
   "metadata": {},
   "outputs": [
    {
     "data": {
      "text/plain": [
       "8254506"
      ]
     },
     "execution_count": 55,
     "metadata": {},
     "output_type": "execute_result"
    }
   ],
   "source": [
    "len(EF_input_new)"
   ]
  },
  {
   "cell_type": "code",
   "execution_count": 45,
   "id": "4bb37f51-b30a-44e7-aeab-b0adc579b475",
   "metadata": {},
   "outputs": [
    {
     "data": {
      "image/png": "[encoded data removed]",
      "text/plain": [
       "<Figure size 800x700 with 1 Axes>"
      ]
     },
     "metadata": {},
     "output_type": "display_data"
    }
   ],
   "source": [
    "# create figure\n",
    "fig, ax    = plt.subplots(nrows=1, ncols=1, figsize=[8,7],sharex=True, sharey=False, squeeze=True)\n",
    "\n",
    "for model_name in model_names:\n",
    "    # remove nan values\n",
    "    # model_mask = ~ np.isnan(EF_input[model_name+'_EF'])\n",
    "    hist = ax.hist(EF_input_new[model_name+'_EF'], bins=10, alpha=1., color=model_colors[model_name], label=model_name, histtype='step')\n",
    "    ax.set_xlim(0, 1)\n",
    "    fig.savefig(f\"/g/data/w97/mm3972/scripts/PLUMBER2/LSM_VPD_PLUMBER2/plots/check_EF_pdf.png\", bbox_inches='tight',dpi=300)"
   ]
  },
  {
   "cell_type": "markdown",
   "id": "54c5f22d-6c75-4f17-a5df-ab49244891d2",
   "metadata": {},
   "source": [
    "## Check daily EF"
   ]
  },
  {
   "cell_type": "code",
   "execution_count": 46,
   "id": "45249082-a668-4430-85e2-3cdb24396e38",
   "metadata": {},
   "outputs": [],
   "source": [
    "file_name   = \"/g/data/w97/mm3972/scripts/PLUMBER2/LSM_VPD_PLUMBER2/txt/process2_output/EF_all_sites_1_day_mean.csv\"\n",
    "EF_input_1  = pd.read_csv(file_name, usecols=\n",
    "                         ['model_CABLE', 'model_CABLE-POP-CN', 'model_CHTESSEL_Ref_exp1', 'model_CLM5a', 'model_GFDL',\n",
    "                          'model_JULES_GL9', 'model_JULES_GL9_withLAI', 'model_MATSIRO', 'model_MuSICA', 'model_NASAEnt',\n",
    "                          'model_NoahMPv401', 'model_ORC2_r6593', 'model_ORC3_r8120', 'model_QUINCY', 'model_STEMMUS-SCOPE','obs'])"
   ]
  },
  {
   "cell_type": "code",
   "execution_count": 52,
   "id": "712ab236-288a-4cc0-80a8-e76b324a48b7",
   "metadata": {},
   "outputs": [
    {
     "data": {
      "text/plain": [
       "8254506"
      ]
     },
     "execution_count": 52,
     "metadata": {},
     "output_type": "execute_result"
    }
   ],
   "source": [
    "EF_input_1 = EF_input_1[mask_out]"
   ]
  },
  {
   "cell_type": "code",
   "execution_count": null,
   "id": "c079a726-3cd0-4b1d-a4b4-1db33166b39c",
   "metadata": {},
   "outputs": [],
   "source": [
    "EF_input_1"
   ]
  },
  {
   "cell_type": "code",
   "execution_count": 35,
   "id": "4d306c65-b36d-4079-8b72-1a1b7d849a77",
   "metadata": {},
   "outputs": [
    {
     "data": {
      "text/plain": [
       "1438318"
      ]
     },
     "execution_count": 35,
     "metadata": {},
     "output_type": "execute_result"
    }
   ],
   "source": [
    "np.sum(EF_input_1['model_CABLE'] >1)"
   ]
  },
  {
   "cell_type": "code",
   "execution_count": 33,
   "id": "1c50e68f-883e-4dfa-8291-6999453c70fa",
   "metadata": {},
   "outputs": [
    {
     "data": {
      "text/plain": [
       "1524685"
      ]
     },
     "execution_count": 33,
     "metadata": {},
     "output_type": "execute_result"
    }
   ],
   "source": [
    "np.sum((EF_input_1['model_CABLE'] <0)) #& (EF_input_1['model_CABLE'] <1))"
   ]
  },
  {
   "cell_type": "code",
   "execution_count": 34,
   "id": "3d855ef8-b51b-4949-ac5a-4614fbfc4e06",
   "metadata": {},
   "outputs": [
    {
     "data": {
      "text/plain": [
       "14174845"
      ]
     },
     "execution_count": 34,
     "metadata": {},
     "output_type": "execute_result"
    }
   ],
   "source": [
    "np.sum((EF_input_1['model_CABLE'] >0) & (EF_input_1['model_CABLE'] <1))"
   ]
  },
  {
   "cell_type": "code",
   "execution_count": 36,
   "id": "61b47ed4-8a10-4a61-9abc-4fd9ba144792",
   "metadata": {},
   "outputs": [
    {
     "data": {
      "text/plain": [
       "2059368"
      ]
     },
     "execution_count": 36,
     "metadata": {},
     "output_type": "execute_result"
    }
   ],
   "source": [
    "np.sum(EF_input_1['obs'] >1)"
   ]
  },
  {
   "cell_type": "code",
   "execution_count": 37,
   "id": "42c9f78d-8e59-4474-ae6d-ad1f5ddc0bb8",
   "metadata": {},
   "outputs": [
    {
     "data": {
      "text/plain": [
       "1831571"
      ]
     },
     "execution_count": 37,
     "metadata": {},
     "output_type": "execute_result"
    }
   ],
   "source": [
    "np.sum((EF_input_1['obs'] <0)) #& (EF_input_1['model_CABLE'] <1))"
   ]
  },
  {
   "cell_type": "code",
   "execution_count": 38,
   "id": "b40eed5e-4895-4782-beba-0d6587ae45f3",
   "metadata": {},
   "outputs": [
    {
     "data": {
      "text/plain": [
       "13035613"
      ]
     },
     "execution_count": 38,
     "metadata": {},
     "output_type": "execute_result"
    }
   ],
   "source": [
    "np.sum((EF_input_1['obs'] >0) & (EF_input_1['obs'] <1))"
   ]
  },
  {
   "cell_type": "code",
   "execution_count": 62,
   "id": "b1d75261-420a-486d-a1dc-94fe1bc19587",
   "metadata": {},
   "outputs": [
    {
     "data": {
      "text/plain": [
       "0           0.573836\n",
       "1           0.573836\n",
       "2           0.573836\n",
       "3           0.573836\n",
       "4           0.573836\n",
       "              ...   \n",
       "17137987    0.752060\n",
       "17137988    0.752060\n",
       "17137989    0.752060\n",
       "17137990    0.752060\n",
       "17137991   -1.215452\n",
       "Name: obs, Length: 17137992, dtype: float64"
      ]
     },
     "execution_count": 62,
     "metadata": {},
     "output_type": "execute_result"
    }
   ],
   "source": [
    "EF_input_1['obs']"
   ]
  },
  {
   "cell_type": "code",
   "execution_count": 84,
   "id": "56f71ab6-6c21-46d7-9b83-8440221d461c",
   "metadata": {},
   "outputs": [
    {
     "data": {
      "text/plain": [
       "(-5.0, 5.0)"
      ]
     },
     "execution_count": 84,
     "metadata": {},
     "output_type": "execute_result"
    },
    {
     "data": {
      "image/png": "[encoded data removed]",
      "text/plain": [
       "<Figure size 800x700 with 1 Axes>"
      ]
     },
     "metadata": {},
     "output_type": "display_data"
    }
   ],
   "source": [
    "# create figure\n",
    "fig, ax    = plt.subplots(nrows=1, ncols=1, figsize=[8,7],sharex=True, sharey=False, squeeze=True)\n",
    "\n",
    "# for model_name in model_names:\n",
    "model_name='STEMMUS-SCOPE'\n",
    "if model_name == 'obs':\n",
    "    head = ''\n",
    "else: \n",
    "    head = 'model_'\n",
    "# remove nan values\n",
    "# model_mask = ~ np.isnan(EF_input[model_name+'_EF'])\n",
    "hist = ax.hist(EF_input_1[head+model_name], bins=10, alpha=0.1, color=model_colors[model_name], label=model_name,density=True,)# histtype='step')\n",
    "# hist = ax.plot(EF_input_1[head+model_name].rolling(window=50000, min_periods=1).mean(), alpha=1., color=model_colors[model_name], label=model_name)\n",
    "ax.set_xlim(-5, 5)\n",
    "    # ax.set_ylim(-100, 200)\n",
    "    # fig.savefig(f\"/g/data/w97/mm3972/scripts/PLUMBER2/LSM_VPD_PLUMBER2/plots/check_EF_pdf.png\", bbox_inches='tight',dpi=300)"
   ]
  },
  {
   "cell_type": "markdown",
   "id": "93549d97-ad91-4d5a-8af4-ab8828203e63",
   "metadata": {},
   "source": [
    "# Check 5-day smoothing EF"
   ]
  },
  {
   "cell_type": "code",
   "execution_count": 15,
   "id": "d7fe7a5e-2134-4c71-b834-61e823136865",
   "metadata": {},
   "outputs": [],
   "source": [
    "file_name = \"/g/data/w97/mm3972/scripts/PLUMBER2/LSM_VPD_PLUMBER2/txt/process2_output/EF_all_sites_5_day_mean.csv\"\n",
    "EF_input_5  = pd.read_csv(file_name, usecols=\n",
    "                         ['model_CABLE', 'model_CABLE-POP-CN', 'model_CHTESSEL_Ref_exp1', 'model_CLM5a', 'model_GFDL',\n",
    "                          'model_JULES_GL9', 'model_JULES_GL9_withLAI', 'model_MATSIRO', 'model_MuSICA', 'model_NASAEnt',\n",
    "                          'model_NoahMPv401', 'model_ORC2_r6593', 'model_ORC3_r8120', 'model_QUINCY', 'model_STEMMUS-SCOPE','obs'])"
   ]
  },
  {
   "cell_type": "code",
   "execution_count": 17,
   "id": "d5ddfeee-41cf-470c-b56f-3693fa26f006",
   "metadata": {},
   "outputs": [
    {
     "data": {
      "image/png": "[encoded data removed]",
      "text/plain": [
       "<Figure size 800x700 with 1 Axes>"
      ]
     },
     "metadata": {},
     "output_type": "display_data"
    }
   ],
   "source": [
    "# create figure\n",
    "fig, ax    = plt.subplots(nrows=1, ncols=1, figsize=[8,7],sharex=True, sharey=False, squeeze=True)\n",
    "\n",
    "for model_name in model_names:\n",
    "    if model_name == 'obs':\n",
    "        head = ''\n",
    "    else: \n",
    "        head = 'model_'\n",
    "    # remove nan values\n",
    "    # model_mask = ~ np.isnan(EF_input[model_name+'_EF'])\n",
    "    hist = ax.hist(EF_input_1[head+model_name], bins=20, alpha=1., color=model_colors[model_name], label=model_name, histtype='step')\n",
    "    ax.set_xlim(-1, 2)\n",
    "    # fig.savefig(f\"/g/data/w97/mm3972/scripts/PLUMBER2/LSM_VPD_PLUMBER2/plots/check_EF_5day_mean_pdf.png\", bbox_inches='tight',dpi=300)"
   ]
  },
  {
   "cell_type": "code",
   "execution_count": null,
   "id": "0391a830-f396-4f31-bbd9-7ad3c4f5705e",
   "metadata": {},
   "outputs": [],
   "source": [
    "EF_low   = 0\n",
    "EF_high  = 0.3\n",
    "\n",
    "fig, ax  = plt.subplots(nrows=1, ncols=1, figsize=[10,10],sharex=True, sharey=False, squeeze=True)\n",
    "\n",
    "for model_name in model_names:\n",
    "    mask = (EF_day[model_name+'_EF']>EF_low) & (EF_day[model_name+'_EF']<EF_high)\n",
    "    hist = ax.hist(EF_day.loc[mask, 'hour'], bins=23, alpha=1., color=model_colors[model_name], label=model_name, histtype='step')\n",
    "    \n",
    "    # print(model_name,EF_day.loc[mask, 'hour'])\n",
    "    ax.set_xlim(0,23)\n",
    "    ax.set_xticks(np.arange(0,24,1))\n",
    "fig.savefig('./Fig_curves_EF_0_0.3_hours_PDF.png',bbox_inches='tight',dpi=300) # '_30percent'\n"
   ]
  }
 ],
 "metadata": {
  "kernelspec": {
   "display_name": "Python [conda env:analysis3-unstable]",
   "language": "python",
   "name": "conda-env-analysis3-unstable-py"
  },
  "language_info": {
   "codemirror_mode": {
    "name": "ipython",
    "version": 3
   },
   "file_extension": ".py",
   "mimetype": "text/x-python",
   "name": "python",
   "nbconvert_exporter": "python",
   "pygments_lexer": "ipython3",
   "version": "3.10.14"
  }
 },
 "nbformat": 4,
 "nbformat_minor": 5
}
