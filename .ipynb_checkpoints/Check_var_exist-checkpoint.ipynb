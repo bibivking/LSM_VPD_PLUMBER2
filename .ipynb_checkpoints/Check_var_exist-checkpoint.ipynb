{
 "cells": [
  {
   "cell_type": "code",
   "execution_count": 1,
   "id": "ab0e2467-ebd7-4e4b-a1c4-7ff039ea84f4",
   "metadata": {},
   "outputs": [],
   "source": [
    "import os\n",
    "import gc\n",
    "import sys\n",
    "import glob\n",
    "import numpy as np\n",
    "import pandas as pd\n",
    "import netCDF4 as nc\n",
    "from datetime import datetime, timedelta\n",
    "from matplotlib.cm import get_cmap\n",
    "import matplotlib.pyplot as plt\n",
    "from matplotlib import cm\n",
    "from matplotlib import colors\n",
    "import matplotlib.ticker as mticker"
   ]
  },
  {
   "cell_type": "code",
   "execution_count": 3,
   "id": "e6576269-481f-44db-945f-053602808acb",
   "metadata": {},
   "outputs": [],
   "source": [
    "# To use PLUMBER2_GPP_common_utils, change directory to where it exists\n",
    "os.chdir('/g/data/w97/mm3972/scripts/PLUMBER2/LSM_VPD_PLUMBER2')\n",
    "from PLUMBER2_VPD_common_utils import *"
   ]
  },
  {
   "cell_type": "code",
   "execution_count": 6,
   "id": "767ac88a-4a47-4322-ae7c-aa8ef6475094",
   "metadata": {},
   "outputs": [],
   "source": [
    "# Path of PLUMBER 2 dataset\n",
    "PLUMBER2_path      = \"/g/data/w97/mm3972/data/PLUMBER2/\"\n",
    "PLUMBER2_flux_path = \"/g/data/w97/mm3972/data/Fluxnet_data/Post-processed_PLUMBER2_outputs/Nc_files/Flux/\"\n",
    "PLUMBER2_met_path  = \"/g/data/w97/mm3972/data/Fluxnet_data/Post-processed_PLUMBER2_outputs/Nc_files/Met/\"\n",
    "\n",
    "\n",
    "model_names   = ['CHTESSEL_Ref_exp1']\n",
    "                # ['CABLE', 'CABLE-POP-CN',\n",
    "                #  'CHTESSEL_Ref_exp1', 'CLM5a', 'GFDL',\n",
    "                #  'JULES_GL9', 'JULES_GL9_withLAI',\n",
    "                #  'MATSIRO', 'MuSICA', 'NASAEnt',\n",
    "                #  'NoahMPv401', 'ORC2_r6593',\n",
    "                #  'ORC3_r8120', 'QUINCY',\n",
    "                #  'STEMMUS-SCOPE']#, 'obs'] #\"BEPS\"\n",
    "\n",
    "all_site_path  = sorted(glob.glob(PLUMBER2_met_path+\"/*.nc\"))\n",
    "site_names     = [os.path.basename(site_path).split(\"_\")[0] for site_path in all_site_path]\n"
   ]
  },
  {
   "cell_type": "code",
   "execution_count": 5,
   "id": "345e969f-1715-40c2-9e15-db0c33e58a60",
   "metadata": {},
   "outputs": [
    {
     "name": "stdout",
     "output_type": "stream",
     "text": [
      "Rnet\n",
      "CABLE\n",
      "CABLE-POP-CN\n",
      "CHTESSEL_Ref_exp1\n",
      "Qle\n",
      "CLM5a\n",
      "GFDL\n",
      "JULES_GL9\n",
      "Qle\n",
      "JULES_GL9_withLAI\n",
      "MATSIRO\n",
      "MuSICA\n",
      "NASAEnt\n",
      "NoahMPv401\n",
      "ORC2_r6593\n",
      "ORC3_r8120\n",
      "QUINCY\n",
      "STEMMUS-SCOPE\n",
      "AR-SLu {'CABLE': 'Rnet', 'CABLE-POP-CN': 'Rnet', 'CHTESSEL_Ref_exp1': ['latent', 'Qh', 'Qg'], 'CLM5a': 'Rnet', 'GFDL': 'Rnet', 'JULES_GL9': ['latent', 'Qh', 'None'], 'JULES_GL9_withLAI': 'Rnet', 'MATSIRO': 'Rnet', 'MuSICA': ['SWnet', 'LWnet'], 'NASAEnt': ['SWnet', 'LWnet'], 'NoahMPv401': ['SWnet', 'LWnet'], 'ORC2_r6593': ['SWnet', 'LWnet'], 'ORC3_r8120': ['SWnet', 'LWnet'], 'QUINCY': 'Rnet', 'STEMMUS-SCOPE': 'Rnet'}\n"
     ]
    }
   ],
   "source": [
    "varname       = \"Rnet\"\n",
    "for site_name in site_names[:1]:\n",
    "    trans_dict    = check_variable_exists(PLUMBER2_path, varname, site_name, model_names)\n",
    "    print(site_name,trans_dict)"
   ]
  },
  {
   "cell_type": "code",
   "execution_count": null,
   "id": "3dd2bb8d-ecaf-4f53-83bd-219370a8f837",
   "metadata": {},
   "outputs": [],
   "source": []
  },
  {
   "cell_type": "code",
   "execution_count": null,
   "id": "aeca27fe-2ede-40f0-8706-9fe00050f508",
   "metadata": {},
   "outputs": [],
   "source": []
  }
 ],
 "metadata": {
  "kernelspec": {
   "display_name": "Python [conda env:analysis3-24.04]",
   "language": "python",
   "name": "conda-env-analysis3-24.04-py"
  },
  "language_info": {
   "codemirror_mode": {
    "name": "ipython",
    "version": 3
   },
   "file_extension": ".py",
   "mimetype": "text/x-python",
   "name": "python",
   "nbconvert_exporter": "python",
   "pygments_lexer": "ipython3",
   "version": "3.10.14"
  }
 },
 "nbformat": 4,
 "nbformat_minor": 5
}
