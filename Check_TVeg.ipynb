{
 "cells": [
  {
   "cell_type": "code",
   "execution_count": 1,
   "id": "6516fa22-06b2-4d37-9da0-c66ea047f891",
   "metadata": {},
   "outputs": [],
   "source": [
    "import os\n",
    "import gc\n",
    "import sys\n",
    "import glob\n",
    "import copy\n",
    "import numpy as np\n",
    "import pandas as pd\n",
    "import netCDF4 as nc\n",
    "import multiprocessing as mp\n",
    "from datetime import datetime, timedelta\n",
    "from matplotlib.cm import get_cmap\n",
    "import matplotlib.pyplot as plt\n",
    "from matplotlib import cm\n",
    "from matplotlib import colors\n",
    "import matplotlib.ticker as mticker"
   ]
  },
  {
   "cell_type": "code",
   "execution_count": 17,
   "id": "005c3ab9-6e32-474a-b2aa-312d684d61fa",
   "metadata": {},
   "outputs": [],
   "source": [
    "site_name = 'AU-How' #'AU-Tum' #"
   ]
  },
  {
   "cell_type": "code",
   "execution_count": 18,
   "id": "035c8119-6887-4204-9bf5-42cae5d66496",
   "metadata": {},
   "outputs": [],
   "source": [
    "PLUMBER2_path  = \"/g/data/w97/mm3972/scripts/PLUMBER2/LSM_VPD_PLUMBER2/nc_files/\"\n",
    "csv_file  = \"/g/data/w97/mm3972/scripts/PLUMBER2/LSM_VPD_PLUMBER2/txt/process1_output/TVeg_all_sites.csv\"\n",
    "nc_file1  = f\"/g/data/w97/mm3972/scripts/PLUMBER2/LSM_VPD_PLUMBER2/nc_files/{site_name}.nc\"\n",
    "# nc_file2  = \"/g/data/w97/mm3972/data/PLUMBER2/CABLE-POP-CN/AU-Tum_PLUMBER2_CN_out_cable.nc\"\n",
    "nc_file2  = f\"/g/data/w97/mm3972/data/PLUMBER2/CABLE/{site_name}_out.nc\"\n",
    "# nc_file2  = \"/g/data/w97/mm3972/data/PLUMBER2/GFDL/AU-Tum.nc\""
   ]
  },
  {
   "cell_type": "markdown",
   "id": "80e03fd6-384e-4de0-95f2-5d36686e2cd7",
   "metadata": {},
   "source": [
    "## Check CABLE"
   ]
  },
  {
   "cell_type": "code",
   "execution_count": 19,
   "id": "27bcf7ce-dbc6-4c63-b927-44f821556a2d",
   "metadata": {},
   "outputs": [
    {
     "data": {
      "text/plain": [
       "array([ 7.08616944e-08,  8.80689722e-08,  2.53709444e-08, ...,\n",
       "       -3.43349056e-08, -4.18009306e-08, -4.91823778e-08])"
      ]
     },
     "execution_count": 19,
     "metadata": {},
     "output_type": "execute_result"
    }
   ],
   "source": [
    "df_csv   = pd.read_csv(f'{csv_file}',usecols=['site_name','model_CABLE'])\n",
    "TVeg_csv = df_csv.loc[df_csv['site_name'] == site_name,'model_CABLE'].values/3600\n",
    "TVeg_csv"
   ]
  },
  {
   "cell_type": "code",
   "execution_count": 20,
   "id": "fa426e26-8908-43cc-b033-3630b4b02cd6",
   "metadata": {},
   "outputs": [
    {
     "name": "stdout",
     "output_type": "stream",
     "text": [
      "[ 7.0861688e-08  8.8068973e-08  2.5370944e-08 ... -3.4334903e-08\n",
      " -4.1800931e-08 -4.9182376e-08]\n"
     ]
    }
   ],
   "source": [
    "df_nc1    = nc.Dataset(nc_file1) \n",
    "# TVeg_nc1  = df_nc1.variables['CABLE-POP-CN_TVeg'][:]\n",
    "# TVeg_nc1  = df_nc1.variables['GFDL_TVeg'][:]\n",
    "TVeg_nc1  = df_nc1.variables['CABLE_TVeg'][:]\n",
    "print(TVeg_nc1)"
   ]
  },
  {
   "cell_type": "code",
   "execution_count": 21,
   "id": "62bf9f07-9d68-4d5d-8efe-c912e51e0f3c",
   "metadata": {},
   "outputs": [
    {
     "name": "stdout",
     "output_type": "stream",
     "text": [
      "[ 7.0861688e-08  8.8068973e-08  2.5370944e-08 ... -3.4334903e-08\n",
      " -4.1800931e-08 -4.9182376e-08]\n"
     ]
    }
   ],
   "source": [
    "df_nc2    = nc.Dataset(nc_file2) \n",
    "TVeg_nc2  = df_nc2.variables['TVeg'][:,0,0]\n",
    "print(TVeg_nc2)"
   ]
  },
  {
   "cell_type": "markdown",
   "id": "23bf3897-d81b-4da4-a08b-9303168b745a",
   "metadata": {},
   "source": [
    "## Check CABLE-POP-CN"
   ]
  },
  {
   "cell_type": "code",
   "execution_count": 10,
   "id": "6537321f-8ef8-46b8-bbaa-f8e6c7482a8d",
   "metadata": {},
   "outputs": [],
   "source": [
    "nc_file2  = f\"/g/data/w97/mm3972/data/PLUMBER2/CABLE-POP-CN/{site_name}_PLUMBER2_CN_out_cable.nc\""
   ]
  },
  {
   "cell_type": "code",
   "execution_count": 11,
   "id": "b6d2c24a-c43a-4c68-96d3-bda76098f074",
   "metadata": {},
   "outputs": [
    {
     "data": {
      "text/plain": [
       "array([7.23939333e-10, 3.77015694e-10, 3.03094111e-10, ...,\n",
       "       1.87614333e-10, 1.49413444e-10, 1.11387981e-10])"
      ]
     },
     "execution_count": 11,
     "metadata": {},
     "output_type": "execute_result"
    }
   ],
   "source": [
    "df_csv   = pd.read_csv(f'{csv_file}',usecols=['site_name','model_CABLE-POP-CN'])\n",
    "TVeg_csv = df_csv.loc[df_csv['site_name'] == site_name,'model_CABLE-POP-CN'].values/3600\n",
    "TVeg_csv"
   ]
  },
  {
   "cell_type": "code",
   "execution_count": 16,
   "id": "6b61143c-febf-42d2-91bb-de0591a2975c",
   "metadata": {},
   "outputs": [
    {
     "name": "stdout",
     "output_type": "stream",
     "text": [
      "[7.2393935e-10 3.7701570e-10 3.0309411e-10 ... 1.8761434e-10 1.4941344e-10\n",
      " 1.1138798e-10]\n"
     ]
    }
   ],
   "source": [
    "df_nc1    = nc.Dataset(nc_file1) \n",
    "# TVeg_nc1  = df_nc1.variables['CABLE-POP-CN_TVeg'][:]\n",
    "# TVeg_nc1  = df_nc1.variables['GFDL_TVeg'][:]\n",
    "TVeg_nc1  = df_nc1.variables['CABLE-POP-CN_TVeg'][:]\n",
    "print(TVeg_nc1)"
   ]
  },
  {
   "cell_type": "code",
   "execution_count": 13,
   "id": "7a784044-7ef3-4fad-9c16-83f78e4c5b77",
   "metadata": {},
   "outputs": [],
   "source": [
    "df_nc2    = nc.Dataset(nc_file2) \n",
    "TVeg_nc2  = df_nc2.variables['TVeg'][:,:,:]"
   ]
  },
  {
   "cell_type": "code",
   "execution_count": 14,
   "id": "17b05fd6-be7e-4037-a586-9b06e8938302",
   "metadata": {},
   "outputs": [
    {
     "name": "stdout",
     "output_type": "stream",
     "text": [
      "[1.7969032e-07 9.3568815e-08 7.5269931e-08 ... 4.6584574e-08 3.7118649e-08\n",
      " 2.7686363e-08]\n"
     ]
    }
   ],
   "source": [
    "TVeg_weight = TVeg_nc2[:,0,0]*0.21+TVeg_nc2[:,1,0]*0.14+TVeg_nc2[:,2,0]*0.58+TVeg_nc2[:,3,0]*0.07\n",
    "  # 0.21,\n",
    "  # 0.14,\n",
    "  # 0.58,\n",
    "  # 0.07 ;\n",
    "print(TVeg_weight)"
   ]
  },
  {
   "cell_type": "code",
   "execution_count": null,
   "id": "b43f45f2-638c-4a11-bafd-c02a4407223a",
   "metadata": {},
   "outputs": [],
   "source": []
  }
 ],
 "metadata": {
  "kernelspec": {
   "display_name": "Python [conda env:analysis3-24.01]",
   "language": "python",
   "name": "conda-env-analysis3-24.01-py"
  },
  "language_info": {
   "codemirror_mode": {
    "name": "ipython",
    "version": 3
   },
   "file_extension": ".py",
   "mimetype": "text/x-python",
   "name": "python",
   "nbconvert_exporter": "python",
   "pygments_lexer": "ipython3",
   "version": "3.10.13"
  }
 },
 "nbformat": 4,
 "nbformat_minor": 5
}
