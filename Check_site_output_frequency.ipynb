{
 "cells": [
  {
   "cell_type": "code",
   "execution_count": 2,
   "id": "4876c609-2f44-4b3c-8b09-2a73982e3c4e",
   "metadata": {},
   "outputs": [],
   "source": [
    "import os\n",
    "import gc\n",
    "import sys\n",
    "import glob\n",
    "import numpy as np\n",
    "import pandas as pd\n",
    "import netCDF4 as nc\n",
    "from datetime import datetime, timedelta\n",
    "from matplotlib.cm import get_cmap\n",
    "import matplotlib.pyplot as plt\n",
    "from matplotlib import cm\n",
    "from matplotlib import colors\n",
    "import matplotlib.ticker as mticker\n",
    "from copy import deepcopy"
   ]
  },
  {
   "cell_type": "code",
   "execution_count": 3,
   "id": "4183cb13-b176-4963-9768-c6c6b1951f50",
   "metadata": {},
   "outputs": [],
   "source": [
    "# To use PLUMBER2_GPP_common_utils, change directory to where it exists\n",
    "os.chdir('/g/data/w97/mm3972/scripts/PLUMBER2/LSM_VPD_PLUMBER2')\n",
    "from PLUMBER2_VPD_common_utils import *"
   ]
  },
  {
   "cell_type": "code",
   "execution_count": 5,
   "id": "8222d6d0-f064-494d-803d-969fa5a0eac3",
   "metadata": {},
   "outputs": [],
   "source": [
    "PLUMBER2_met_path = '/g/data/w97/mm3972/data/Fluxnet_data/Post-processed_PLUMBER2_outputs/Nc_files/Met/'\n"
   ]
  },
  {
   "cell_type": "code",
   "execution_count": 6,
   "id": "4eb5ae44-947f-42c5-b152-2dadfa645809",
   "metadata": {},
   "outputs": [
    {
     "name": "stdout",
     "output_type": "stream",
     "text": [
      "['AU-Otw', 'AU-Tum', 'US-Cop', 'US-Ha1', 'US-MMS', 'US-Ne1', 'US-Ne2', 'US-Ne3', 'US-PFa', 'US-UMB']\n",
      "[]\n"
     ]
    }
   ],
   "source": [
    "site_names, IGBP_types, clim_types, model_names = load_default_list()\n",
    "\n",
    "site_hourly      = []\n",
    "site_half_hourly = []\n",
    "\n",
    "for site_name in site_names:\n",
    "    \n",
    "    # Set input file path\n",
    "    file_path = glob.glob(PLUMBER2_met_path+site_name+\"*.nc\")\n",
    "\n",
    "    # Open input file\n",
    "    f = nc.Dataset(file_path[0])\n",
    "    \n",
    "    # Read time info from input\n",
    "    time           = nc.num2date(f.variables['time'][:],f.variables['time'].units,\n",
    "                    only_use_cftime_datetimes=False,\n",
    "                    only_use_python_datetimes=True)\n",
    "    \n",
    "    var_output     = pd.DataFrame(time, columns=['time'])\n",
    "    hour_diff      = var_output['time'][1].hour - var_output['time'][0].hour\n",
    "    if hour_diff == 1:\n",
    "        site_hourly.append(site_name)\n",
    "    elif hour_diff == 0.5:\n",
    "        site_half_hourly.append(site_name)\n",
    "    \n",
    "print(site_hourly)\n",
    "print(site_half_hourly)"
   ]
  },
  {
   "cell_type": "code",
   "execution_count": null,
   "id": "ce74698b-fe6e-4b16-9a17-bc3fd76d90bd",
   "metadata": {},
   "outputs": [],
   "source": []
  }
 ],
 "metadata": {
  "kernelspec": {
   "display_name": "Python [conda env:analysis3-unstable]",
   "language": "python",
   "name": "conda-env-analysis3-unstable-py"
  },
  "language_info": {
   "codemirror_mode": {
    "name": "ipython",
    "version": 3
   },
   "file_extension": ".py",
   "mimetype": "text/x-python",
   "name": "python",
   "nbconvert_exporter": "python",
   "pygments_lexer": "ipython3",
   "version": "3.10.14"
  }
 },
 "nbformat": 4,
 "nbformat_minor": 5
}
