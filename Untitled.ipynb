{
 "cells": [
  {
   "cell_type": "code",
   "execution_count": null,
   "id": "099bb1e3-a8d3-432e-854e-db5394304247",
   "metadata": {},
   "outputs": [],
   "source": [
    "import seaborn as sns\n",
    "import matplotlib.pyplot as plt\n",
    "import pandas as pd"
   ]
  },
  {
   "cell_type": "code",
   "execution_count": null,
   "id": "79b02560-997d-4438-844e-4133c55bb0f7",
   "metadata": {},
   "outputs": [],
   "source": [
    "model_list    = ['CABLE', 'CABLE-POP-CN', 'CHTESSEL_ERA5_3',\n",
    "                     'CHTESSEL_Ref_exp1', 'CLM5a', 'GFDL',\n",
    "                     'JULES_GL9_withLAI', 'JULES_test',\n",
    "                     'MATSIRO', 'MuSICA', 'NASAEnt',\n",
    "                     'NoahMPv401', 'ORC2_r6593', 'ORC2_r6593_CO2',\n",
    "                     'ORC3_r7245_NEE', 'ORC3_r8120', 'QUINCY',\n",
    "                     'STEMMUS-SCOPE', 'obs'] \n",
    "CMIP6_models  =  ['ACCESS-CM2', 'BCC-CSM2-MR', 'CMCC-CM2-SR5', 'CMCC-ESM2', 'EC-Earth3', 'KACE-1-0-G', 'MIROC6',\n",
    "                         'MIROC-ES2L', 'MPI-ESM1-2-HR', 'MPI-ESM1-2-LR', 'MRI-ESM2-0']\n",
    "\n",
    "CMIP6_txt_path = '/g/data/w97/mm3972/scripts/PLUMBER2/LSM_VPD_PLUMBER2/txt/CMIP6'\n",
    "scenario   = 'historical'\n",
    "var_name   = 'Qle'\n",
    "dist_type  = 'Poisson'\n"
   ]
  },
  {
   "cell_type": "code",
   "execution_count": null,
   "id": "b89538b9-0fee-4d3a-94d9-a47de3dcd33c",
   "metadata": {},
   "outputs": [],
   "source": [
    "var = {}\n",
    "    \n",
    "for CMIP6_model in CMIP6_models:\n",
    "    var_input = []\n",
    "    for model_in in model_list[:2]:\n",
    "        print(f'{CMIP6_txt_path}/metrics_CMIP6_DT_{var_name}_{scenario}_{CMIP6_model}_{model_in}_global_{dist_type}.csv')\n",
    "        var_tmp = pd.read_csv(f'{CMIP6_txt_path}/predicted_CMIP6_DT_{var_name}_{scenario}_{CMIP6_model}_{model_in}_global_{dist_type}.csv', na_values=[''])\n",
    "        var_input.append(var_tmp[model_in].values)\n",
    "    var[CMIP6_model] = var_input\n",
    "    "
   ]
  },
  {
   "cell_type": "code",
   "execution_count": null,
   "id": "d7c8ca84-c7cc-47bc-a8d6-a5ed60931a4b",
   "metadata": {},
   "outputs": [],
   "source": [
    "# Assuming your array is stored in `data`\n",
    "data = np.array(var)  # Replace with your actual data\n",
    "qs\n",
    "# Create the violin plot using Seaborn\n",
    "sns.violinplot(data=data, showmeans=False)  # Set showmeans=False to avoid overlapping means\n",
    "\n",
    "# Optionally, add labels and customization:\n",
    "plt.xlabel(\"Column\")\n",
    "plt.ylabel(\"Distribution\")\n",
    "plt.title(\"Violin Plot of All Columns\")\n",
    "\n",
    "# Rotate x-axis labels for better readability if needed\n",
    "plt.xticks(rotation=45)  # Adjust angle as needed\n",
    "\n",
    "# Optional customization with specific options (e.g., colors, grid)\n",
    "sns.set_palette(\"deep\")  # Example color palette\n",
    "plt.grid(True)\n",
    "\n",
    "plt.tight_layout()\n",
    "plt.show()"
   ]
  },
  {
   "cell_type": "code",
   "execution_count": null,
   "id": "6773d217-426f-477e-8802-80cf8f9b5c0a",
   "metadata": {},
   "outputs": [],
   "source": []
  }
 ],
 "metadata": {
  "kernelspec": {
   "display_name": "Python [conda env:analysis3]",
   "language": "python",
   "name": "conda-env-analysis3-py"
  },
  "language_info": {
   "codemirror_mode": {
    "name": "ipython",
    "version": 3
   },
   "file_extension": ".py",
   "mimetype": "text/x-python",
   "name": "python",
   "nbconvert_exporter": "python",
   "pygments_lexer": "ipython3",
   "version": "3.10.13"
  }
 },
 "nbformat": 4,
 "nbformat_minor": 5
}
