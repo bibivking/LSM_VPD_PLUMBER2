{
 "cells": [
  {
   "cell_type": "code",
   "execution_count": 4,
   "id": "7646e298-804b-4b33-9781-2d2d7f48be16",
   "metadata": {},
   "outputs": [],
   "source": [
    "\n",
    "import os\n",
    "import gc\n",
    "import sys\n",
    "import glob\n",
    "import copy\n",
    "import numpy as np\n",
    "import pandas as pd\n",
    "import netCDF4 as nc\n",
    "import multiprocessing as mp\n",
    "from datetime import datetime, timedelta\n",
    "from matplotlib.cm import get_cmap\n",
    "import matplotlib.pyplot as plt\n",
    "from matplotlib import cm\n",
    "from matplotlib import colors\n",
    "import matplotlib.ticker as mticker\n",
    "# from PLUMBER2_VPD_common_utils import *\n"
   ]
  },
  {
   "cell_type": "code",
   "execution_count": 7,
   "id": "d1f4552e-994d-4bfc-9559-6d1bd4b92af3",
   "metadata": {},
   "outputs": [],
   "source": [
    "# Path of PLUMBER 2 dataset\n",
    "PLUMBER2_path  = \"/g/data/w97/mm3972/scripts/PLUMBER2/LSM_VPD_PLUMBER2/nc_files/\"\n",
    "CMIP6_path     = '/g/data/w97/mm3972/scripts/PLUMBER2/LSM_VPD_PLUMBER2/txt/CMIP6/'\n",
    "\n",
    "# site_names, IGBP_types, clim_types, model_names = load_default_list()\n",
    "\n",
    "# ========================================= 1D curve ========================================\n",
    "# model_list     = model_names['model_select_new']\n",
    "dist_type      = 'Poisson' #'Poisson' # 'Linear', None\n",
    "uncertain_type = 'UCRTN_bootstrap'\n",
    "\n",
    "CMIP6_list   =  ['ACCESS-CM2', 'BCC-CSM2-MR', 'CMCC-CM2-SR5', 'CMCC-ESM2', 'EC-Earth3', 'KACE-1-0-G', 'MIROC6',\n",
    "                 'MIROC-ES2L', 'MPI-ESM1-2-HR', 'MPI-ESM1-2-LR', 'MRI-ESM2-0']\n",
    "\n",
    "scenarios    = ['historical','ssp245']\n",
    "region_names = ['east_AU', 'west_EU', 'north_Am']\n",
    "\n",
    "region_name = region_names[2]\n",
    "scenario    = scenarios[0]\n",
    "region      = {'name':'north_Am'}\n",
    "CMIP6_model = CMIP6_list[0]\n",
    "model_in    = 'GFDL'\n"
   ]
  },
  {
   "cell_type": "code",
   "execution_count": 9,
   "id": "b40f0484-8e4f-47f6-9026-004dd29806ba",
   "metadata": {},
   "outputs": [],
   "source": [
    "\n",
    "'''\n",
    "bin_input, var_predict, bin_series: 1-d array\n",
    "'''\n",
    "\n",
    "# Read lat and lon\n",
    "var_tmp         = pd.read_csv(f'{CMIP6_path}/lat_lon/CMIP6_DT_filtered_by_VPD_lat_lon_{scenario}_{CMIP6_model}_{region[\"name\"]}.csv',na_values=[''], usecols=['lat','lon'])\n",
    "\n",
    "# Read predict LH\n",
    "var_predict     = pd.read_csv(f'{CMIP6_path}/predict/predicted_CMIP6_DT_filtered_by_VPD_Qle_{scenario}_{CMIP6_model}_{model_in}_{region[\"name\"]}_{dist_type}.csv',\n",
    "                           na_values=[''],usecols=[model_in])\n",
    "var_tmp[model_in]= var_predict[model_in].values\n",
    "\n"
   ]
  },
  {
   "cell_type": "code",
   "execution_count": 12,
   "id": "70cd5eae-7a18-4421-ac25-ac177cea4f76",
   "metadata": {},
   "outputs": [
    {
     "data": {
      "text/plain": [
       "array([-124.6875, -122.8125, -120.9375, -119.0625, -117.1875, -115.3125,\n",
       "       -113.4375, -111.5625, -109.6875, -107.8125, -105.9375, -104.0625,\n",
       "       -102.1875, -100.3125,  -98.4375,  -96.5625,  -94.6875,  -92.8125,\n",
       "        -90.9375,  -89.0625,  -87.1875,  -85.3125,  -83.4375,  -81.5625,\n",
       "        -79.6875,  -77.8125,  -75.9375,  -74.0625,  -72.1875,  -70.3125,\n",
       "        -68.4375,  -66.5625])"
      ]
     },
     "execution_count": 12,
     "metadata": {},
     "output_type": "execute_result"
    }
   ],
   "source": [
    "np.unique(var_tmp['lat']) # 22\n",
    "np.unique(var_tmp['lon']) # 32"
   ]
  },
  {
   "cell_type": "code",
   "execution_count": 29,
   "id": "16e27646-4475-4ffc-b7ca-149a06b1507b",
   "metadata": {},
   "outputs": [],
   "source": [
    "var             = var_tmp.groupby(['lat','lon']).quantile([0.5])"
   ]
  },
  {
   "cell_type": "code",
   "execution_count": 30,
   "id": "4c4d05be-4448-46f3-ba41-a329cdb69c8d",
   "metadata": {},
   "outputs": [
    {
     "data": {
      "text/html": [
       "<div>\n",
       "<style scoped>\n",
       "    .dataframe tbody tr th:only-of-type {\n",
       "        vertical-align: middle;\n",
       "    }\n",
       "\n",
       "    .dataframe tbody tr th {\n",
       "        vertical-align: top;\n",
       "    }\n",
       "\n",
       "    .dataframe thead th {\n",
       "        text-align: right;\n",
       "    }\n",
       "</style>\n",
       "<table border=\"1\" class=\"dataframe\">\n",
       "  <thead>\n",
       "    <tr style=\"text-align: right;\">\n",
       "      <th></th>\n",
       "      <th></th>\n",
       "      <th></th>\n",
       "      <th>GFDL</th>\n",
       "    </tr>\n",
       "    <tr>\n",
       "      <th>lat</th>\n",
       "      <th>lon</th>\n",
       "      <th></th>\n",
       "      <th></th>\n",
       "    </tr>\n",
       "  </thead>\n",
       "  <tbody>\n",
       "    <tr>\n",
       "      <th rowspan=\"5\" valign=\"top\">25.625</th>\n",
       "      <th>-113.4375</th>\n",
       "      <th>0.5</th>\n",
       "      <td>58.789076</td>\n",
       "    </tr>\n",
       "    <tr>\n",
       "      <th>-111.5625</th>\n",
       "      <th>0.5</th>\n",
       "      <td>58.333193</td>\n",
       "    </tr>\n",
       "    <tr>\n",
       "      <th>-109.6875</th>\n",
       "      <th>0.5</th>\n",
       "      <td>58.057961</td>\n",
       "    </tr>\n",
       "    <tr>\n",
       "      <th>-107.8125</th>\n",
       "      <th>0.5</th>\n",
       "      <td>58.387494</td>\n",
       "    </tr>\n",
       "    <tr>\n",
       "      <th>-105.9375</th>\n",
       "      <th>0.5</th>\n",
       "      <td>58.313052</td>\n",
       "    </tr>\n",
       "    <tr>\n",
       "      <th>...</th>\n",
       "      <th>...</th>\n",
       "      <th>...</th>\n",
       "      <td>...</td>\n",
       "    </tr>\n",
       "    <tr>\n",
       "      <th rowspan=\"5\" valign=\"top\">51.875</th>\n",
       "      <th>-74.0625</th>\n",
       "      <th>0.5</th>\n",
       "      <td>58.046077</td>\n",
       "    </tr>\n",
       "    <tr>\n",
       "      <th>-72.1875</th>\n",
       "      <th>0.5</th>\n",
       "      <td>58.306112</td>\n",
       "    </tr>\n",
       "    <tr>\n",
       "      <th>-70.3125</th>\n",
       "      <th>0.5</th>\n",
       "      <td>58.327175</td>\n",
       "    </tr>\n",
       "    <tr>\n",
       "      <th>-68.4375</th>\n",
       "      <th>0.5</th>\n",
       "      <td>58.377181</td>\n",
       "    </tr>\n",
       "    <tr>\n",
       "      <th>-66.5625</th>\n",
       "      <th>0.5</th>\n",
       "      <td>58.375290</td>\n",
       "    </tr>\n",
       "  </tbody>\n",
       "</table>\n",
       "<p>560 rows × 1 columns</p>\n",
       "</div>"
      ],
      "text/plain": [
       "                           GFDL\n",
       "lat    lon                     \n",
       "25.625 -113.4375 0.5  58.789076\n",
       "       -111.5625 0.5  58.333193\n",
       "       -109.6875 0.5  58.057961\n",
       "       -107.8125 0.5  58.387494\n",
       "       -105.9375 0.5  58.313052\n",
       "...                         ...\n",
       "51.875 -74.0625  0.5  58.046077\n",
       "       -72.1875  0.5  58.306112\n",
       "       -70.3125  0.5  58.327175\n",
       "       -68.4375  0.5  58.377181\n",
       "       -66.5625  0.5  58.375290\n",
       "\n",
       "[560 rows x 1 columns]"
      ]
     },
     "execution_count": 30,
     "metadata": {},
     "output_type": "execute_result"
    }
   ],
   "source": [
    "var"
   ]
  },
  {
   "cell_type": "code",
   "execution_count": null,
   "id": "25e29409-db04-4a6e-951a-30b9a43bb926",
   "metadata": {},
   "outputs": [],
   "source": [
    "# Read EF_annual_hist\n",
    "if model_in == 'CABLE':\n",
    "    EF_annual_hist  = pd.read_csv(f'{CMIP6_path}/EF_annual_hist/CMIP6_DT_filtered_by_VPD_EF_annual_hist_{scenario}_{CMIP6_model}_{region[\"name\"]}.csv',na_values=[''], usecols=['EF_annual_hist'])\n",
    "    var_tmp['EF_annual_hist'] = EF_annual_hist['EF_annual_hist'].values\n",
    "\n",
    "# Groupby\n",
    "var             = var_tmp.groupby(['lat','lon']).mean()\n",
    "print('var', var)\n",
    "var_vals        = pd.Series(var[model_in].values, name=model_in)\n",
    "var_vals.to_csv(f'./txt/CMIP6/thirty_year_mean_per_pixel/CMIP6_DT_filtered_by_VPD_Qle_30year_mean_{scenario}_{CMIP6_model}_{model_in}_{region[\"name\"]}.csv')\n",
    "\n",
    "if model_in == 'CABLE':\n",
    "    var_EF_annual_hist = pd.Series(var['EF_annual_hist'].values, name='EF_annual_hist')\n",
    "    var_EF_annual_hist.to_csv(f'./txt/CMIP6/thirty_year_mean_per_pixel/CMIP6_DT_filtered_by_VPD_EF_annual_hist_30year_mean_{scenario}_{CMIP6_model}_{model_in}_{region[\"name\"]}.csv')\n"
   ]
  }
 ],
 "metadata": {
  "kernelspec": {
   "display_name": "Python [conda env:analysis3-23.07]",
   "language": "python",
   "name": "conda-env-analysis3-23.07-py"
  },
  "language_info": {
   "codemirror_mode": {
    "name": "ipython",
    "version": 3
   },
   "file_extension": ".py",
   "mimetype": "text/x-python",
   "name": "python",
   "nbconvert_exporter": "python",
   "pygments_lexer": "ipython3",
   "version": "3.10.13"
  }
 },
 "nbformat": 4,
 "nbformat_minor": 5
}
